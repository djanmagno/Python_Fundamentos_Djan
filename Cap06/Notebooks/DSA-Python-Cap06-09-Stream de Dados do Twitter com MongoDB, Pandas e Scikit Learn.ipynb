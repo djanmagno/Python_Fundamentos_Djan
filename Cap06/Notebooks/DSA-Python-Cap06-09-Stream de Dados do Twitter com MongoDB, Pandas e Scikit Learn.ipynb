{
 "cells": [
  {
   "cell_type": "markdown",
   "metadata": {},
   "source": [
    "# <font color='blue'>Data Science Academy - Python Fundamentos - Capítulo 6</font>\n",
    "\n",
    "## Download: http://github.com/dsacademybr"
   ]
  },
  {
   "cell_type": "code",
   "execution_count": 1,
   "metadata": {},
   "outputs": [
    {
     "name": "stdout",
     "output_type": "stream",
     "text": [
      "Versão da Linguagem Python Usada Neste Jupyter Notebook: 3.7.6\n"
     ]
    }
   ],
   "source": [
    "# Versão da Linguagem Python\n",
    "from platform import python_version\n",
    "print('Versão da Linguagem Python Usada Neste Jupyter Notebook:', python_version())"
   ]
  },
  {
   "cell_type": "markdown",
   "metadata": {},
   "source": [
    "## Stream de Dados do Twitter com MongoDB, Pandas e Scikit Learn"
   ]
  },
  {
   "cell_type": "markdown",
   "metadata": {},
   "source": [
    "## Preparando a Conexão com o Twitter"
   ]
  },
  {
   "cell_type": "code",
   "execution_count": 2,
   "metadata": {},
   "outputs": [
    {
     "name": "stdout",
     "output_type": "stream",
     "text": [
      "Collecting tweepy\n",
      "  Downloading tweepy-3.10.0-py2.py3-none-any.whl (30 kB)\n",
      "Collecting requests-oauthlib>=0.7.0\n",
      "  Downloading requests_oauthlib-1.3.0-py2.py3-none-any.whl (23 kB)\n",
      "Requirement already satisfied: requests[socks]>=2.11.1 in /Users/djanmagno/opt/anaconda3/lib/python3.7/site-packages (from tweepy) (2.22.0)\n",
      "Requirement already satisfied: six>=1.10.0 in /Users/djanmagno/opt/anaconda3/lib/python3.7/site-packages (from tweepy) (1.14.0)\n",
      "Collecting oauthlib>=3.0.0\n",
      "  Downloading oauthlib-3.1.0-py2.py3-none-any.whl (147 kB)\n",
      "\u001b[K     |████████████████████████████████| 147 kB 6.0 MB/s eta 0:00:01\n",
      "\u001b[?25hRequirement already satisfied: chardet<3.1.0,>=3.0.2 in /Users/djanmagno/opt/anaconda3/lib/python3.7/site-packages (from requests[socks]>=2.11.1->tweepy) (3.0.4)\n",
      "Requirement already satisfied: idna<2.9,>=2.5 in /Users/djanmagno/opt/anaconda3/lib/python3.7/site-packages (from requests[socks]>=2.11.1->tweepy) (2.8)\n",
      "Requirement already satisfied: urllib3!=1.25.0,!=1.25.1,<1.26,>=1.21.1 in /Users/djanmagno/opt/anaconda3/lib/python3.7/site-packages (from requests[socks]>=2.11.1->tweepy) (1.25.8)\n",
      "Requirement already satisfied: certifi>=2017.4.17 in /Users/djanmagno/opt/anaconda3/lib/python3.7/site-packages (from requests[socks]>=2.11.1->tweepy) (2019.11.28)\n",
      "Requirement already satisfied: PySocks!=1.5.7,>=1.5.6; extra == \"socks\" in /Users/djanmagno/opt/anaconda3/lib/python3.7/site-packages (from requests[socks]>=2.11.1->tweepy) (1.7.1)\n",
      "Installing collected packages: oauthlib, requests-oauthlib, tweepy\n",
      "Successfully installed oauthlib-3.1.0 requests-oauthlib-1.3.0 tweepy-3.10.0\n"
     ]
    }
   ],
   "source": [
    "# Instala o pacote tweepy\n",
    "!pip install tweepy"
   ]
  },
  {
   "cell_type": "code",
   "execution_count": 3,
   "metadata": {},
   "outputs": [],
   "source": [
    "# Importando os módulos Tweepy, Datetime e Json\n",
    "from tweepy.streaming import StreamListener\n",
    "from tweepy import OAuthHandler\n",
    "from tweepy import Stream\n",
    "from datetime import datetime\n",
    "import json"
   ]
  },
  {
   "cell_type": "markdown",
   "metadata": {},
   "source": [
    "Veja no manual em pdf como criar sua API no Twitter e configure as suas chaves abaixo."
   ]
  },
  {
   "cell_type": "code",
   "execution_count": 4,
   "metadata": {},
   "outputs": [],
   "source": [
    "# Adicione aqui sua Consumer Key\n",
    "consumer_key = \"eTeGYb2kIYCguJ9AIKB15xx82\""
   ]
  },
  {
   "cell_type": "code",
   "execution_count": 5,
   "metadata": {},
   "outputs": [],
   "source": [
    "# Adicione aqui sua Consumer Secret \n",
    "consumer_secret = \"6UFVytRpZI1HPc2O7jYLKUv3dSRq3OoNLZ0tLCDjtCdqlUbVZo\""
   ]
  },
  {
   "cell_type": "code",
   "execution_count": 6,
   "metadata": {},
   "outputs": [],
   "source": [
    "# Adicione aqui seu Access Token\n",
    "access_token = \"1041275151344558081-IWV4rIpKdna27WoHkmRP8UJS16eTWU\""
   ]
  },
  {
   "cell_type": "code",
   "execution_count": 7,
   "metadata": {},
   "outputs": [],
   "source": [
    "# Adicione aqui seu Access Token Secret\n",
    "access_token_secret = \"YTH6QFeL3cLQ8qu4OF3QD4eRfW6lQIpaV90wQ3vjirr0J\""
   ]
  },
  {
   "cell_type": "code",
   "execution_count": 8,
   "metadata": {},
   "outputs": [],
   "source": [
    "# Criando as chaves de autenticação\n",
    "auth = OAuthHandler(consumer_key, consumer_secret)"
   ]
  },
  {
   "cell_type": "code",
   "execution_count": 9,
   "metadata": {},
   "outputs": [],
   "source": [
    "auth.set_access_token(access_token, access_token_secret)"
   ]
  },
  {
   "cell_type": "code",
   "execution_count": 10,
   "metadata": {},
   "outputs": [],
   "source": [
    "# Criando uma classe para capturar os stream de dados do Twitter e \n",
    "# armazenar no MongoDB\n",
    "class MyListener(StreamListener):\n",
    "    def on_data(self, dados):\n",
    "        tweet = json.loads(dados)\n",
    "        created_at = tweet[\"created_at\"]\n",
    "        id_str = tweet[\"id_str\"]\n",
    "        text = tweet[\"text\"]\n",
    "        obj = {\"created_at\":created_at,\"id_str\":id_str,\"text\":text,}\n",
    "        tweetind = col.insert_one(obj).inserted_id\n",
    "        print (obj)\n",
    "        return True"
   ]
  },
  {
   "cell_type": "code",
   "execution_count": 11,
   "metadata": {},
   "outputs": [],
   "source": [
    "# Criando o objeto mylistener\n",
    "mylistener = MyListener()"
   ]
  },
  {
   "cell_type": "code",
   "execution_count": 12,
   "metadata": {},
   "outputs": [],
   "source": [
    "# Criando o objeto mystream\n",
    "mystream = Stream(auth, listener = mylistener)"
   ]
  },
  {
   "cell_type": "markdown",
   "metadata": {},
   "source": [
    "## Preparando a Conexão com o MongoDB"
   ]
  },
  {
   "cell_type": "code",
   "execution_count": 13,
   "metadata": {},
   "outputs": [],
   "source": [
    "# Importando do PyMongo o módulo MongoClient\n",
    "from pymongo import MongoClient   "
   ]
  },
  {
   "cell_type": "code",
   "execution_count": 14,
   "metadata": {},
   "outputs": [],
   "source": [
    "# Criando a conexão ao MongoDB\n",
    "client = MongoClient('localhost', 27017)"
   ]
  },
  {
   "cell_type": "code",
   "execution_count": 15,
   "metadata": {},
   "outputs": [],
   "source": [
    "# Criando o banco de dados twitterdb\n",
    "db = client.twitterdb"
   ]
  },
  {
   "cell_type": "code",
   "execution_count": 16,
   "metadata": {},
   "outputs": [],
   "source": [
    "# Criando a collection \"col\"\n",
    "col = db.tweets "
   ]
  },
  {
   "cell_type": "code",
   "execution_count": 41,
   "metadata": {},
   "outputs": [],
   "source": [
    "# Criando uma lista de palavras chave para buscar nos Tweets\n",
    "keywords = ['Bolsonaro', 'Privatização', 'Paulo Guedes', 'Brasil']"
   ]
  },
  {
   "cell_type": "markdown",
   "metadata": {},
   "source": [
    "## Coletando os Tweets"
   ]
  },
  {
   "cell_type": "code",
   "execution_count": 42,
   "metadata": {
    "scrolled": false
   },
   "outputs": [
    {
     "name": "stdout",
     "output_type": "stream",
     "text": [
      "{'created_at': 'Tue Jan 12 18:27:01 +0000 2021', 'id_str': '1349060328768892932', 'text': 'RT @dederusso1: A economia tá decolando no crescimento em \"V\" do Tchutchuca do governo Bolsonaro! https://t.co/Q9R4H03hqw', '_id': ObjectId('5ffde9fa70567cf65e617252')}\n",
      "{'created_at': 'Tue Jan 12 18:27:01 +0000 2021', 'id_str': '1349060328764698624', 'text': '@TercioTomaz @jairbolsonaro Nota Zero Bolsonaro: sempre terceiriza a sua culpa. É muito mais que 5000 mil demissões… https://t.co/XhHGhFwgHI', '_id': ObjectId('5ffde9fa70567cf65e617253')}\n",
      "{'created_at': 'Tue Jan 12 18:27:01 +0000 2021', 'id_str': '1349060329284792321', 'text': 'RT @THAISVIANELLO: URGENTE: 5TF dá 48hs para Bolsonaro entregar os 49,62% da eficaz que falta da vachina. \\n\\n#ForaDoria', '_id': ObjectId('5ffde9fa70567cf65e617254')}\n",
      "{'created_at': 'Tue Jan 12 18:27:01 +0000 2021', 'id_str': '1349060329364451328', 'text': 'RT @MarliCaetano3: Resultado do governo Bolsonaro:\\n\\n- Sony, Ford, Audi e Mercedez deixando o Brasil com milhares de desempregados;\\n- Gasoli…', '_id': ObjectId('5ffde9fa70567cf65e617255')}\n",
      "{'created_at': 'Tue Jan 12 18:27:01 +0000 2021', 'id_str': '1349060329330905090', 'text': 'RT @agoranoticiasbr: STF proíbe União de cobrar Estado do Rio por calote de R$ 4,5 bilhões em dívida - Agora Notícias Brasil https://t.co/Y…', '_id': ObjectId('5ffde9fa70567cf65e617256')}\n",
      "{'created_at': 'Tue Jan 12 18:27:01 +0000 2021', 'id_str': '1349060330702446595', 'text': 'RT @MarceloFreixo: Bolsonaro diz que caos no Brasil será pior que nos EUA sem o voto impresso em 2022. Deputados governistas querem acabar…', '_id': ObjectId('5ffde9fb70567cf65e617257')}\n",
      "{'created_at': 'Tue Jan 12 18:27:01 +0000 2021', 'id_str': '1349060330845057031', 'text': 'Libera assim mesmo, tem um monte de gente querendo tomar, eles não ligam se ficou um pouco baixa a eficácia. Não é… https://t.co/dmqsL4wamm', '_id': ObjectId('5ffde9fb70567cf65e617258')}\n",
      "{'created_at': 'Tue Jan 12 18:27:01 +0000 2021', 'id_str': '1349060331197386757', 'text': 'RT @g1: CoronaVac tem eficácia geral de 50,38% nos testes no Brasil, anuncia Butantan. Índice é considerado adequado pela OMS para conter i…', '_id': ObjectId('5ffde9fb70567cf65e617259')}\n",
      "{'created_at': 'Tue Jan 12 18:27:02 +0000 2021', 'id_str': '1349060332199809026', 'text': 'RT @WendelBrasilSP: O @RodrigoMaia continua a desejar o impeachment do presidente @jairbolsonaro.\\n\\nAlguém tem dúvida do quanto esse canalha…', '_id': ObjectId('5ffde9fb70567cf65e61725a')}\n",
      "{'created_at': 'Tue Jan 12 18:27:02 +0000 2021', 'id_str': '1349060332443099137', 'text': 'RT @DCM_online: Modelo do genocida Bolsonaro, ditadura mentiu e ocultou dados sobre a pólio, denunciou Albert Sabin https://t.co/P2Xhtm2ZZw', '_id': ObjectId('5ffde9fb70567cf65e61725b')}\n",
      "{'created_at': 'Tue Jan 12 18:27:02 +0000 2021', 'id_str': '1349060332736700418', 'text': 'RT @rangermatheus: assim como a ford gostaria de encerrar minhas atividades no brasil', '_id': ObjectId('5ffde9fb70567cf65e61725c')}\n",
      "{'created_at': 'Tue Jan 12 18:27:02 +0000 2021', 'id_str': '1349060332833148930', 'text': 'RT @comentste: “oh, meu brasil, sinto tanto a sua falta... mas te prometo que vou chegar com a minha amiga amada, doce e belíssima.\\nvai ser…', '_id': ObjectId('5ffde9fb70567cf65e61725d')}\n",
      "{'created_at': 'Tue Jan 12 18:27:02 +0000 2021', 'id_str': '1349060332782809088', 'text': '@lcoutinho @Estadao @governosp Alguem sabe informar se o @STF_oficial ou a @REDE_18 vai dar ao Doria 72 horas para… https://t.co/qVT6kHPpd0', '_id': ObjectId('5ffde9fb70567cf65e61725e')}\n",
      "{'created_at': 'Tue Jan 12 18:27:02 +0000 2021', 'id_str': '1349060332543741956', 'text': 'Tomanocu\\nUsei o app e o bagulho me transformou no CARLOS BOLSONARO https://t.co/gsIduwzC9e', '_id': ObjectId('5ffde9fb70567cf65e61725f')}\n",
      "{'created_at': 'Tue Jan 12 18:27:02 +0000 2021', 'id_str': '1349060333881577472', 'text': 'Huawei impulsa agricultura 4.0 en Brasil https://t.co/ksrWOlr29p', '_id': ObjectId('5ffde9fb70567cf65e617260')}\n",
      "{'created_at': 'Tue Jan 12 18:27:02 +0000 2021', 'id_str': '1349060333915267072', 'text': 'RT @evertav_music: Essa é uma boa notícia Brasil assina acordo com Japão para desenvolver potencial de nióbio e grafeno https://t.co/c7rj6h…', '_id': ObjectId('5ffde9fb70567cf65e617261')}\n",
      "{'created_at': 'Tue Jan 12 18:27:02 +0000 2021', 'id_str': '1349060334800265226', 'text': 'RT @luscas: morta no bafao do nego do borel \\n\\no brasil não cansa de me surpreender \\n\\n https://t.co/PIWUQZvjY6', '_id': ObjectId('5ffde9fb70567cf65e617262')}\n",
      "{'created_at': 'Tue Jan 12 18:27:02 +0000 2021', 'id_str': '1349060335316201472', 'text': 'ASSIM MEXXXXMO DE SAÚDE', '_id': ObjectId('5ffde9fc70567cf65e617263')}\n",
      "{'created_at': 'Tue Jan 12 18:27:03 +0000 2021', 'id_str': '1349060335777558530', 'text': '@Naturalistcyber acho que não é nem possível um pior que Bolsonaro né amigo? (assim espero)', '_id': ObjectId('5ffde9fc70567cf65e617264')}\n",
      "{'created_at': 'Tue Jan 12 18:27:03 +0000 2021', 'id_str': '1349060337090359299', 'text': '@luscas A gente tem o Bolsonaro como presidente, se a vacinação depender dele a gente não se vacina esse ano', '_id': ObjectId('5ffde9fc70567cf65e617265')}\n",
      "{'created_at': 'Tue Jan 12 18:27:03 +0000 2021', 'id_str': '1349060337371377665', 'text': 'RT @roxmo: A Ford está com problemas no mundo inteiro. Mas, claro, a culpa é do Bolsonaro RT @MarceloMadurei8: Se a Ford fechou no Brasil p…', '_id': ObjectId('5ffde9fc70567cf65e617266')}\n",
      "{'created_at': 'Tue Jan 12 18:27:03 +0000 2021', 'id_str': '1349060337413345281', 'text': 'RT @zdoficial: Olha a Argentina aí, gente!', '_id': ObjectId('5ffde9fc70567cf65e617267')}\n",
      "{'created_at': 'Tue Jan 12 18:27:03 +0000 2021', 'id_str': '1349060337803395075', 'text': 'RT @lucianopotter: Olívio Dutra e Bolsonaro concordam sobre não dar subsídios pra Ford. Então não trate o tema SOMENTE como “dar ou não sub…', '_id': ObjectId('5ffde9fc70567cf65e617268')}\n",
      "{'created_at': 'Tue Jan 12 18:27:03 +0000 2021', 'id_str': '1349060337849561088', 'text': 'RT @requiaopmdb: A China tem 58 empresas automobilísticas chinesas. 18 multinacionais com forte capital chinês. Brasil esmagou as empresas…', '_id': ObjectId('5ffde9fc70567cf65e617269')}\n",
      "{'created_at': 'Tue Jan 12 18:27:03 +0000 2021', 'id_str': '1349060338134765569', 'text': 'O susto que eu tive , achando que tinha entrado em fan clube de Bolsonaro \\n\\nESTAMOS COM VC MITO', '_id': ObjectId('5ffde9fc70567cf65e61726a')}\n",
      "{'created_at': 'Tue Jan 12 18:27:03 +0000 2021', 'id_str': '1349060339028127753', 'text': 'RT @luscas: morta no bafao do nego do borel \\n\\no brasil não cansa de me surpreender \\n\\n https://t.co/PIWUQZvjY6', '_id': ObjectId('5ffde9fd70567cf65e61726b')}\n",
      "{'created_at': 'Tue Jan 12 18:27:03 +0000 2021', 'id_str': '1349060339665657858', 'text': 'RT @crfmarkin: Tem que fazer protesto, tem que ter pressão, cobrança não pode faltar.\\n\\nTorcedor não quer comemorar Libertadores de 38 em 38…', '_id': ObjectId('5ffde9fd70567cf65e61726c')}\n",
      "{'created_at': 'Tue Jan 12 18:27:03 +0000 2021', 'id_str': '1349060339640504321', 'text': \"RT @oiregoRRR2: Verdade!\\nAs tias do 'Zap' salvaram mais vidas que muitos médicos e políticos ao divulgarem o tratamento precoce.\", '_id': ObjectId('5ffde9fd70567cf65e61726d')}\n",
      "{'created_at': 'Tue Jan 12 18:27:03 +0000 2021', 'id_str': '1349060339174961154', 'text': '@g1 Os lucros dos 4 principais bancos do país –Bradesco, Banco do Brasil, Itaú e Santander– somaram R$ 17,4 bilhões… https://t.co/En97FVJASt', '_id': ObjectId('5ffde9fd70567cf65e61726e')}\n",
      "{'created_at': 'Tue Jan 12 18:27:03 +0000 2021', 'id_str': '1349060339791499265', 'text': 'RT @GPLAYBruno: Por conta dessa babaquice do bolsonaro com as vacinas, ficamos com as piores disponiveis no mundo. Vai se fuder o bolsolixo…', '_id': ObjectId('5ffde9fd70567cf65e61726f')}\n",
      "{'created_at': 'Tue Jan 12 18:27:04 +0000 2021', 'id_str': '1349060339925741568', 'text': 'RT @planalto: O Presidente Jair Bolsonaro participa da Cerimônia em comemoração aos 160 anos da Caixa Econômica Federal, no Palácio do Plan…', '_id': ObjectId('5ffde9fd70567cf65e617270')}\n",
      "{'created_at': 'Tue Jan 12 18:27:04 +0000 2021', 'id_str': '1349060340114452482', 'text': 'RT @rangermatheus: assim como a ford gostaria de encerrar minhas atividades no brasil', '_id': ObjectId('5ffde9fd70567cf65e617271')}\n",
      "{'created_at': 'Tue Jan 12 18:27:04 +0000 2021', 'id_str': '1349060340152217602', 'text': 'RT @KochhannK: Quando os idiotas falam.... https://t.co/1rj7z9jpfq', '_id': ObjectId('5ffde9fd70567cf65e617272')}\n",
      "{'created_at': 'Tue Jan 12 18:27:04 +0000 2021', 'id_str': '1349060340357750785', 'text': 'RT @leandroruschel: Deixa eu ver se entendi: o Butantan não pode fornecer dados à Anvisa sobre a Coronavac por que a China não deixa? E ain…', '_id': ObjectId('5ffde9fd70567cf65e617273')}\n",
      "{'created_at': 'Tue Jan 12 18:27:04 +0000 2021', 'id_str': '1349060340412280832', 'text': 'RT @fec5588fm: Se você for diagnosticado com covid 19 e o médico se recusar receitar Cloroquina e Ivermectina ... NÃO ACEITE ... chame a po…', '_id': ObjectId('5ffde9fd70567cf65e617274')}\n",
      "{'created_at': 'Tue Jan 12 18:27:04 +0000 2021', 'id_str': '1349060340840062977', 'text': 'RT @rangermatheus: assim como a ford gostaria de encerrar minhas atividades no brasil', '_id': ObjectId('5ffde9fd70567cf65e617275')}\n"
     ]
    },
    {
     "name": "stdout",
     "output_type": "stream",
     "text": [
      "{'created_at': 'Tue Jan 12 18:27:04 +0000 2021', 'id_str': '1349060341167173638', 'text': 'RT @luscas: morta no bafao do nego do borel \\n\\no brasil não cansa de me surpreender \\n\\n https://t.co/PIWUQZvjY6', '_id': ObjectId('5ffde9fd70567cf65e617276')}\n",
      "{'created_at': 'Tue Jan 12 18:27:04 +0000 2021', 'id_str': '1349060341184016385', 'text': 'RT @costa_rui: Bons tempos! Infelizmente, a notícia agora é o encerramento das atividades da Ford no Brasil. É preciso equilíbrio e respons…', '_id': ObjectId('5ffde9fd70567cf65e617277')}\n",
      "{'created_at': 'Tue Jan 12 18:27:04 +0000 2021', 'id_str': '1349060341670543360', 'text': 'RT @rangermatheus: assim como a ford gostaria de encerrar minhas atividades no brasil', '_id': ObjectId('5ffde9fd70567cf65e617278')}\n",
      "{'created_at': 'Tue Jan 12 18:27:04 +0000 2021', 'id_str': '1349060341930590208', 'text': 'RT @rangermatheus: assim como a ford gostaria de encerrar minhas atividades no brasil', '_id': ObjectId('5ffde9fd70567cf65e617279')}\n",
      "{'created_at': 'Tue Jan 12 18:27:04 +0000 2021', 'id_str': '1349060342744285184', 'text': 'RT @DCM_online: Rui Costa lamenta saída da Ford do Brasil e diz que país está virando uma “grande fazenda” https://t.co/MWMct2AcxT', '_id': ObjectId('5ffde9fd70567cf65e61727a')}\n",
      "{'created_at': 'Tue Jan 12 18:27:04 +0000 2021', 'id_str': '1349060342832394240', 'text': 'Esquerda criticando o Bolsonaro por não privilegiar multinacional e ela sair do Brasil\\n\\nDireita elogiando Bolsonaro… https://t.co/evExk2SkUj', '_id': ObjectId('5ffde9fd70567cf65e61727b')}\n",
      "{'created_at': 'Tue Jan 12 18:27:04 +0000 2021', 'id_str': '1349060342912086017', 'text': 'RT @JosilenaT: Fodam-se os brasileiros que precisam do auxílio emergencial, quem mandou não nascer filho de burguês. \\n\\nFilho de Mourão é pr…', '_id': ObjectId('5ffde9fd70567cf65e61727c')}\n",
      "{'created_at': 'Tue Jan 12 18:27:04 +0000 2021', 'id_str': '1349060343218233344', 'text': 'RT @masfaz_: O fechamento da Ford no Brasil, além de ser (mais uma) péssima notícia para a indústria no país é também simbólica do ponto de…', '_id': ObjectId('5ffde9fd70567cf65e61727d')}\n",
      "{'created_at': 'Tue Jan 12 18:27:04 +0000 2021', 'id_str': '1349060343906136065', 'text': 'RT @anac_martinsj: minha paixão por ele ultrapassa limites', '_id': ObjectId('5ffde9fe70567cf65e61727e')}\n",
      "{'created_at': 'Tue Jan 12 18:27:05 +0000 2021', 'id_str': '1349060344086474754', 'text': 'RT @StopBolsonaro: O \"Dia D\" está chegando.\\nÉ 31 de janeiro, dia de STOP BOLSONARO MUNDIAL.\\n\\nParticipe!!\\n💪🏻✊🏻💪🏽✊🏽💪🏿✊🏿 https://t.co/9ItSVaYf…', '_id': ObjectId('5ffde9fe70567cf65e61727f')}\n",
      "{'created_at': 'Tue Jan 12 18:27:05 +0000 2021', 'id_str': '1349060344552026112', 'text': 'Cala-te e fica no seu mundinho de Narnia. Muito cara de pau mesmo !!  🤦🏼\\u200d♀️', '_id': ObjectId('5ffde9fe70567cf65e617280')}\n",
      "{'created_at': 'Tue Jan 12 18:27:05 +0000 2021', 'id_str': '1349060344694583298', 'text': 'RT @rangermatheus: assim como a ford gostaria de encerrar minhas atividades no brasil', '_id': ObjectId('5ffde9fe70567cf65e617281')}\n",
      "{'created_at': 'Tue Jan 12 18:27:05 +0000 2021', 'id_str': '1349060344828874753', 'text': '@folha Efeito Bolsonaro!', '_id': ObjectId('5ffde9fe70567cf65e617282')}\n",
      "{'created_at': 'Tue Jan 12 18:27:05 +0000 2021', 'id_str': '1349060345210564615', 'text': 'RT @daria_fidyk: Wish I was there on the ranchero with my daughter in Brasil 💕 I’m transporting myself in memory to where I was so peaceful…', '_id': ObjectId('5ffde9fe70567cf65e617283')}\n",
      "{'created_at': 'Tue Jan 12 18:27:05 +0000 2021', 'id_str': '1349060345462214658', 'text': 'RT @INSISTENTE6: Choradeira pelo fechamento da Ford, muitos parlamentares oportunista culpando o governo federal por isto, só não dizem que…', '_id': ObjectId('5ffde9fe70567cf65e617284')}\n",
      "{'created_at': 'Tue Jan 12 18:27:05 +0000 2021', 'id_str': '1349060345323728902', 'text': 'RT @SilviaTMendona1: QUEREMOS QUE TODO O STF SEJA VACHINADOS!!\\nDEPOIS TODOS GOVERNADORES,... SO NAO VACINEM O PRESIDENTE  BOLSONARO TA,....…', '_id': ObjectId('5ffde9fe70567cf65e617285')}\n",
      "{'created_at': 'Tue Jan 12 18:27:05 +0000 2021', 'id_str': '1349060345529331712', 'text': 'RT @republica_ctba: OAB sai em defesa de jornalistas que incitaram suicídio de Bolsonaro\\nhttps://t.co/QqAnP4pTlX', '_id': ObjectId('5ffde9fe70567cf65e617286')}\n",
      "{'created_at': 'Tue Jan 12 18:27:05 +0000 2021', 'id_str': '1349060345676103682', 'text': 'RT @jairmearrependi: A vacina é segura.\\n\\nA vacina previne casos graves e internações.\\n\\nA vacina afasta o suave beijo da morte, me deixando…', '_id': ObjectId('5ffde9fe70567cf65e617287')}\n",
      "{'created_at': 'Tue Jan 12 18:27:05 +0000 2021', 'id_str': '1349060346103934976', 'text': 'E se fosse Bolsonaro? Bolsonaro está errado ao priorizar a vacina de Oxford?\\n\\nhttps://t.co/zpoaNXjtns', '_id': ObjectId('5ffde9fe70567cf65e617288')}\n",
      "{'created_at': 'Tue Jan 12 18:27:05 +0000 2021', 'id_str': '1349060346624040962', 'text': 'RT @luscas: morta no bafao do nego do borel \\n\\no brasil não cansa de me surpreender \\n\\n https://t.co/PIWUQZvjY6', '_id': ObjectId('5ffde9fe70567cf65e617289')}\n",
      "{'created_at': 'Tue Jan 12 18:27:05 +0000 2021', 'id_str': '1349060346925953028', 'text': 'RT @aeritokyo: #BAMBAM lisa Nego chungha vitão orochi marina ruy barbosa Duda Reis shownu neymar luan #RenunciaDoria #ArmaduraDeUmGuerreiro…', '_id': ObjectId('5ffde9fe70567cf65e61728a')}\n",
      "{'created_at': 'Tue Jan 12 18:27:05 +0000 2021', 'id_str': '1349060346749853696', 'text': 'Ela não desiste', '_id': ObjectId('5ffde9fe70567cf65e61728b')}\n",
      "{'created_at': 'Tue Jan 12 18:27:05 +0000 2021', 'id_str': '1349060347202826242', 'text': 'RT @alessandromolon: Estamos nessa luta desde outubro de 2020. É inadmissível que a Anvisa libere o Paraquat para uso no Brasil. Esse agrot…', '_id': ObjectId('5ffde9fe70567cf65e61728c')}\n",
      "{'created_at': 'Tue Jan 12 18:27:05 +0000 2021', 'id_str': '1349060347802607617', 'text': 'RT @semfimlucrativo: E se o Paulo Guedes privatizasse a Ford', '_id': ObjectId('5ffde9ff70567cf65e61728d')}\n",
      "{'created_at': 'Tue Jan 12 18:27:06 +0000 2021', 'id_str': '1349060348276600836', 'text': 'RT @EthelMaciel: Estoque de oxigênio- não sabemos\\nEstoque anestésicos para sedação- não sabemos\\nEstoque de EPI- não sabemos\\nEstoque de cort…', '_id': ObjectId('5ffde9ff70567cf65e61728e')}\n",
      "{'created_at': 'Tue Jan 12 18:27:06 +0000 2021', 'id_str': '1349060348716998667', 'text': 'Vei eu acho que as pessoas ainda não entenderam que quando sair a vacina, não vai rolar um dia D pra fazer o Brasil… https://t.co/wxsRkVzXsE', '_id': ObjectId('5ffde9ff70567cf65e61728f')}\n",
      "{'created_at': 'Tue Jan 12 18:27:06 +0000 2021', 'id_str': '1349060349316767750', 'text': 'RT @tdbem: vontade imensa de ir embora\\nvontade nenhuma de me tornar imigrante\\n\\no brasil nem precisava ser ótimo, aquele mais ou menos de se…', '_id': ObjectId('5ffde9ff70567cf65e617290')}\n",
      "{'created_at': 'Tue Jan 12 18:27:06 +0000 2021', 'id_str': '1349060350138863619', 'text': '\"Enquanto os países exportam carros, o Brasil exporta as Fábricas de carros\" (Mito).', '_id': ObjectId('5ffde9ff70567cf65e617291')}\n",
      "{'created_at': 'Tue Jan 12 18:27:06 +0000 2021', 'id_str': '1349060350671548419', 'text': 'RT @CarmilatiRenato: Para aquele abiguinho esquerdista que teima em dizer que a culpa da saída da Ford do Brasil é do governo, da política…', '_id': ObjectId('5ffde9ff70567cf65e617292')}\n",
      "{'created_at': 'Tue Jan 12 18:27:06 +0000 2021', 'id_str': '1349060350663131136', 'text': 'RT @bahforalu: se todos os estudantes do brasil marcassem de acertar as mesmas questões todas as notas seriam iguais e todo mundo entrava n…', '_id': ObjectId('5ffde9ff70567cf65e617293')}\n",
      "{'created_at': 'Tue Jan 12 18:27:06 +0000 2021', 'id_str': '1349060350876987392', 'text': 'RT @AssumpcaD: Vamos retwitar até quebrar a banca... Os urubus carniceiros do esseteef, sabem que fizeram MMM, mas estão fingindo demência,…', '_id': ObjectId('5ffde9ff70567cf65e617294')}\n",
      "{'created_at': 'Tue Jan 12 18:27:06 +0000 2021', 'id_str': '1349060351141302278', 'text': 'RT @FlavioBolsonaro: Chega a ser engraçado o ataque combinado, e infundado, de Rodrigo Maia e Luciano Huck ao Presidente Bolsonaro. Não vej…', '_id': ObjectId('5ffde9ff70567cf65e617295')}\n",
      "{'created_at': 'Tue Jan 12 18:27:06 +0000 2021', 'id_str': '1349060351803973634', 'text': 'RT @HigorMath: Explicando a eficácia global da Coronavac divulgada hoje pelo @butantanoficial. Isso significa: se vc tomar, tem 50,38% do v…', '_id': ObjectId('5ffdea0070567cf65e617296')}\n",
      "{'created_at': 'Tue Jan 12 18:27:06 +0000 2021', 'id_str': '1349060352093409286', 'text': 'RT @reporterenato: EXCLUSIVO: O Twitter identificou e suspendeu milhares de perfis com conteúdo extremista no Brasil. Além de questionar a…', '_id': ObjectId('5ffdea0070567cf65e617297')}\n",
      "{'created_at': 'Tue Jan 12 18:27:06 +0000 2021', 'id_str': '1349060351925641219', 'text': 'RT @weasttcoast: vai ter vacina?\\n\\npazuello: old que ***\\n\\nmas vai ser que dia?\\n\\npazuello: dm', '_id': ObjectId('5ffdea0070567cf65e617298')}\n"
     ]
    },
    {
     "name": "stdout",
     "output_type": "stream",
     "text": [
      "{'created_at': 'Tue Jan 12 18:27:06 +0000 2021', 'id_str': '1349060352282132483', 'text': 'RT @v_dosfatos: A VERDADE sempre prevalece.\\nEntão quer dizer que a metade das pessoas que tomarem essa vacina não ficarão imunizadas?\\nA not…', '_id': ObjectId('5ffdea0070567cf65e617299')}\n",
      "{'created_at': 'Tue Jan 12 18:27:06 +0000 2021', 'id_str': '1349060352353382401', 'text': '#liberdadedeopiniao @alexandregarcia A Ford tem problemas estruturais fora do Brasil. O fechamento pode não ser um… https://t.co/YH1pT3kylF', '_id': ObjectId('5ffdea0070567cf65e61729a')}\n",
      "{'created_at': 'Tue Jan 12 18:27:06 +0000 2021', 'id_str': '1349060352147918849', 'text': 'fui mandar foto dos negócio da escola pra minha mãe e enviei o bolsonaro juntomkkkkkkmmmmkkmm https://t.co/v4CtuqlCjv', '_id': ObjectId('5ffdea0070567cf65e61729b')}\n",
      "{'created_at': 'Tue Jan 12 18:27:07 +0000 2021', 'id_str': '1349060352718360579', 'text': '@luiz_suzano @JornalBSM Já foi fazer o depósito pra pagar a campanha do PT?\\n\\nhttps://t.co/Xr9Z9D2sjV', '_id': ObjectId('5ffdea0070567cf65e61729c')}\n",
      "{'created_at': 'Tue Jan 12 18:27:07 +0000 2021', 'id_str': '1349060353724981250', 'text': 'RT @girolatino: 💉 Data de início da vacinação na América Latina:\\n\\n🇵🇷 Porto Rico: 15/12\\n🇨🇱 Chile: 24/12\\n🇨🇷 Costa Rica: 24/12\\n🇲🇽 México: 24/1…', '_id': ObjectId('5ffdea0070567cf65e61729d')}\n",
      "{'created_at': 'Tue Jan 12 18:27:07 +0000 2021', 'id_str': '1349060353733390338', 'text': 'RT @marciapira: @cirogomes Perdedor: nós lemos a notícia! Vc só a manchete! Ainda bem que nos livramos de vc! Ainda bem q vc perdeu feio pr…', '_id': ObjectId('5ffdea0070567cf65e61729e')}\n",
      "{'created_at': 'Tue Jan 12 18:27:07 +0000 2021', 'id_str': '1349060353758547974', 'text': 'RT @luide: O vaidoso esquerdista liberal, ele funciona na base da vingança: se todo brasileiro ficar desempregado pra ele é uma vitória, já…', '_id': ObjectId('5ffdea0070567cf65e61729f')}\n",
      "{'created_at': 'Tue Jan 12 18:27:07 +0000 2021', 'id_str': '1349060353913712642', 'text': \"RT @gokuapoiador38: O 'Gextor'\", '_id': ObjectId('5ffdea0070567cf65e6172a0')}\n",
      "{'created_at': 'Tue Jan 12 18:27:07 +0000 2021', 'id_str': '1349060354958110721', 'text': 'RT @luscas: morta no bafao do nego do borel \\n\\no brasil não cansa de me surpreender \\n\\n https://t.co/PIWUQZvjY6', '_id': ObjectId('5ffdea0070567cf65e6172a1')}\n",
      "{'created_at': 'Tue Jan 12 18:27:07 +0000 2021', 'id_str': '1349060355314634754', 'text': 'RT @rangermatheus: assim como a ford gostaria de encerrar minhas atividades no brasil', '_id': ObjectId('5ffdea0070567cf65e6172a2')}\n",
      "{'created_at': 'Tue Jan 12 18:27:07 +0000 2021', 'id_str': '1349060356476456966', 'text': 'RT @DilmaDebochada_: Vacina no dia D e na hora H, Ford foi embora, BB vai demitir, desemprego recorde, dólar nas alturas, gás aumentando de…', '_id': ObjectId('5ffdea0170567cf65e6172a3')}\n",
      "{'created_at': 'Tue Jan 12 18:27:07 +0000 2021', 'id_str': '1349060356455485442', 'text': 'Con 2 cojones el capitao', '_id': ObjectId('5ffdea0170567cf65e6172a4')}\n",
      "{'created_at': 'Tue Jan 12 18:27:08 +0000 2021', 'id_str': '1349060356681977858', 'text': 'RT @TercioTomaz: Presidente Bolsonaro fala sobre ida do Ministro Pazuello para Manaus - AM\\n@jairbolsonaro https://t.co/qgpLifrwho', '_id': ObjectId('5ffdea0170567cf65e6172a5')}\n",
      "{'created_at': 'Tue Jan 12 18:27:08 +0000 2021', 'id_str': '1349060358074494978', 'text': '@CalSoares5 @Meldreams99 https://t.co/EyszLzWX0Y', '_id': ObjectId('5ffdea0170567cf65e6172a6')}\n",
      "{'created_at': 'Tue Jan 12 18:27:08 +0000 2021', 'id_str': '1349060358149955588', 'text': 'Hasta llueve en Brasil. Como no voy a creer en River y más cuando llueve? Lpm que manija , que fe te tengo millo', '_id': ObjectId('5ffdea0170567cf65e6172a7')}\n",
      "{'created_at': 'Tue Jan 12 18:27:08 +0000 2021', 'id_str': '1349060358321926153', 'text': 'RT @Sukitabr: Confesso que ainda tô meio chocado com a saída da Ford do Brasil??????', '_id': ObjectId('5ffdea0170567cf65e6172a8')}\n",
      "{'created_at': 'Tue Jan 12 18:27:08 +0000 2021', 'id_str': '1349060359290818561', 'text': 'RT @rangermatheus: assim como a ford gostaria de encerrar minhas atividades no brasil', '_id': ObjectId('5ffdea0170567cf65e6172a9')}\n",
      "{'created_at': 'Tue Jan 12 18:27:08 +0000 2021', 'id_str': '1349060359349538822', 'text': 'RT @mitags: As tias do Zap estão  salvando mais vidas no Brasil, divulgando o tratamento precoce , do que muitos médicos que se recusam a u…', '_id': ObjectId('5ffdea0170567cf65e6172aa')}\n",
      "{'created_at': 'Tue Jan 12 18:27:08 +0000 2021', 'id_str': '1349060359873851392', 'text': 'RT @ttitanick: [PSICOLOGO PRA PESSOAS TRANS]\\n\\ngente, vocês sabem de alguma pessoa psicóloga que trabalhe gratuitamente e atenda bem pessoas…', '_id': ObjectId('5ffdea0170567cf65e6172ab')}\n",
      "{'created_at': 'Tue Jan 12 18:27:08 +0000 2021', 'id_str': '1349060359802523649', 'text': 'Ford fecha e GM vem com tudo para o Brasil: Investimento de R$ 10 bilhões👏🤠🇧🇷🤑💰💵💸💲 https://t.co/Q5OTLC8GXp', '_id': ObjectId('5ffdea0270567cf65e6172ac')}\n",
      "{'created_at': 'Tue Jan 12 18:27:08 +0000 2021', 'id_str': '1349060359857049600', 'text': \"RT @gokuapoiador38: O 'Gextor'\", '_id': ObjectId('5ffdea0270567cf65e6172ad')}\n",
      "{'created_at': 'Tue Jan 12 18:27:08 +0000 2021', 'id_str': '1349060360205180928', 'text': 'RT @oiIuiz: Fato: Ford, em reestruturação, fecha plantas de suas fábricas no Brasil, Europa e China.\\n\\nCiro Gomes: \"É culpa do Bolsonaro!\"…', '_id': ObjectId('5ffdea0270567cf65e6172ae')}\n",
      "{'created_at': 'Tue Jan 12 18:27:08 +0000 2021', 'id_str': '1349060360125480966', 'text': '@mllehellno @MBittencourtMD Eu sei lá, Bolsonaro já deu todo o motivo do mundo pro povo odiá-lo e continuam gostand… https://t.co/HtEYKucnJh', '_id': ObjectId('5ffdea0270567cf65e6172af')}\n",
      "{'created_at': 'Tue Jan 12 18:27:09 +0000 2021', 'id_str': '1349060360830119943', 'text': 'RT @MiriamTaokei100: Era para ser um ESCÂNDALO, mas parece que caiu no dia a dia e ninguém se importa...\\n\\n\"Maia (DEM) e Kalil (PSD) usaram…', '_id': ObjectId('5ffdea0270567cf65e6172b0')}\n",
      "{'created_at': 'Tue Jan 12 18:27:09 +0000 2021', 'id_str': '1349060361157287943', 'text': 'RT @brasil247: Nassif: militarização do governo e armamento da população são ingredientes essenciais do golpe tramado por Bolsonaro\\nhttps:/…', '_id': ObjectId('5ffdea0270567cf65e6172b1')}\n",
      "{'created_at': 'Tue Jan 12 18:27:09 +0000 2021', 'id_str': '1349060361232773126', 'text': '@laiiseamaral Não existe torcida mais tranquila no Brasil, nesse momento', '_id': ObjectId('5ffdea0270567cf65e6172b2')}\n",
      "{'created_at': 'Tue Jan 12 18:27:09 +0000 2021', 'id_str': '1349060361308303370', 'text': '@LucasSantos038 @maimonela Sony saiu por causa da sobre taxação em seus consoles, Ford e Mercedes porque ninguém co… https://t.co/1SJTsdGkJ1', '_id': ObjectId('5ffdea0270567cf65e6172b3')}\n",
      "{'created_at': 'Tue Jan 12 18:27:09 +0000 2021', 'id_str': '1349060361346023429', 'text': 'O Brasil que eu quero: https://t.co/BW0gUcdnt3', '_id': ObjectId('5ffdea0270567cf65e6172b4')}\n",
      "{'created_at': 'Tue Jan 12 18:27:09 +0000 2021', 'id_str': '1349060361568268295', 'text': 'RT @o_antagonista: A eficácia da Coronavac será melhor na população geral do no ensaio clínico, que foi conduzido apenas com profissionais…', '_id': ObjectId('5ffdea0270567cf65e6172b5')}\n",
      "{'created_at': 'Tue Jan 12 18:27:09 +0000 2021', 'id_str': '1349060361845149696', 'text': 'RT @conexaopolitica: URGENTE: Coronavac tem eficácia global de 50,38% em testes no Brasil, informa governo de SP https://t.co/TiQvhc9PJg', '_id': ObjectId('5ffdea0270567cf65e6172b6')}\n",
      "{'created_at': 'Tue Jan 12 18:27:09 +0000 2021', 'id_str': '1349060362562392067', 'text': '@LuisCValois Bem isso. Avaniante do vírus q tá matando por lá é o B.1.1.2.8. Incrivelmente o vírus começa com B de Bolsonaro, o ídolo deles.', '_id': ObjectId('5ffdea0270567cf65e6172b7')}\n",
      "{'created_at': 'Tue Jan 12 18:27:09 +0000 2021', 'id_str': '1349060362545590273', 'text': 'RT @demori: \"Essa empresa quer incentivos fiscais que as nossas não têm. O dia que achar que o Brasil não serve mais, vai embora e não dá n…', '_id': ObjectId('5ffdea0270567cf65e6172b8')}\n",
      "{'created_at': 'Tue Jan 12 18:27:09 +0000 2021', 'id_str': '1349060362533011460', 'text': '@FontesVania @joaoamoedonovo Se não acredita, então pergunta pro seu presidente!!\\n\\nhttps://t.co/qupje1Hmax', '_id': ObjectId('5ffdea0270567cf65e6172b9')}\n",
      "{'created_at': 'Tue Jan 12 18:27:09 +0000 2021', 'id_str': '1349060363082465282', 'text': 'RT @andrefernm: Ué Ciro, a economia a gente não vê depois? Bem vindo ao depois!', '_id': ObjectId('5ffdea0270567cf65e6172ba')}\n",
      "{'created_at': 'Tue Jan 12 18:27:09 +0000 2021', 'id_str': '1349060363434811398', 'text': 'Bora tomar a vacina', '_id': ObjectId('5ffdea0270567cf65e6172bb')}\n"
     ]
    },
    {
     "name": "stdout",
     "output_type": "stream",
     "text": [
      "{'created_at': 'Tue Jan 12 18:27:09 +0000 2021', 'id_str': '1349060363812286464', 'text': 'RT @demori: \"Essa empresa quer incentivos fiscais que as nossas não têm. O dia que achar que o Brasil não serve mais, vai embora e não dá n…', '_id': ObjectId('5ffdea0270567cf65e6172bc')}\n",
      "{'created_at': 'Tue Jan 12 18:27:09 +0000 2021', 'id_str': '1349060363946483719', 'text': 'RT @MariaSo92340189: @JornalOGlobo Lesa pátria!\\nPrisão e #ImpeachmentDeDoria\\nPara mim, essa é a verdade dos fatos. Agora, @jdoriajr, está d…', '_id': ObjectId('5ffdea0270567cf65e6172bd')}\n"
     ]
    },
    {
     "ename": "KeyboardInterrupt",
     "evalue": "",
     "output_type": "error",
     "traceback": [
      "\u001b[0;31m---------------------------------------------------------------------------\u001b[0m",
      "\u001b[0;31mWantReadError\u001b[0m                             Traceback (most recent call last)",
      "\u001b[0;32m~/opt/anaconda3/lib/python3.7/site-packages/urllib3/contrib/pyopenssl.py\u001b[0m in \u001b[0;36mrecv_into\u001b[0;34m(self, *args, **kwargs)\u001b[0m\n\u001b[1;32m    312\u001b[0m         \u001b[0;32mtry\u001b[0m\u001b[0;34m:\u001b[0m\u001b[0;34m\u001b[0m\u001b[0;34m\u001b[0m\u001b[0m\n\u001b[0;32m--> 313\u001b[0;31m             \u001b[0;32mreturn\u001b[0m \u001b[0mself\u001b[0m\u001b[0;34m.\u001b[0m\u001b[0mconnection\u001b[0m\u001b[0;34m.\u001b[0m\u001b[0mrecv_into\u001b[0m\u001b[0;34m(\u001b[0m\u001b[0;34m*\u001b[0m\u001b[0margs\u001b[0m\u001b[0;34m,\u001b[0m \u001b[0;34m**\u001b[0m\u001b[0mkwargs\u001b[0m\u001b[0;34m)\u001b[0m\u001b[0;34m\u001b[0m\u001b[0;34m\u001b[0m\u001b[0m\n\u001b[0m\u001b[1;32m    314\u001b[0m         \u001b[0;32mexcept\u001b[0m \u001b[0mOpenSSL\u001b[0m\u001b[0;34m.\u001b[0m\u001b[0mSSL\u001b[0m\u001b[0;34m.\u001b[0m\u001b[0mSysCallError\u001b[0m \u001b[0;32mas\u001b[0m \u001b[0me\u001b[0m\u001b[0;34m:\u001b[0m\u001b[0;34m\u001b[0m\u001b[0;34m\u001b[0m\u001b[0m\n",
      "\u001b[0;32m~/opt/anaconda3/lib/python3.7/site-packages/OpenSSL/SSL.py\u001b[0m in \u001b[0;36mrecv_into\u001b[0;34m(self, buffer, nbytes, flags)\u001b[0m\n\u001b[1;32m   1839\u001b[0m             \u001b[0mresult\u001b[0m \u001b[0;34m=\u001b[0m \u001b[0m_lib\u001b[0m\u001b[0;34m.\u001b[0m\u001b[0mSSL_read\u001b[0m\u001b[0;34m(\u001b[0m\u001b[0mself\u001b[0m\u001b[0;34m.\u001b[0m\u001b[0m_ssl\u001b[0m\u001b[0;34m,\u001b[0m \u001b[0mbuf\u001b[0m\u001b[0;34m,\u001b[0m \u001b[0mnbytes\u001b[0m\u001b[0;34m)\u001b[0m\u001b[0;34m\u001b[0m\u001b[0;34m\u001b[0m\u001b[0m\n\u001b[0;32m-> 1840\u001b[0;31m         \u001b[0mself\u001b[0m\u001b[0;34m.\u001b[0m\u001b[0m_raise_ssl_error\u001b[0m\u001b[0;34m(\u001b[0m\u001b[0mself\u001b[0m\u001b[0;34m.\u001b[0m\u001b[0m_ssl\u001b[0m\u001b[0;34m,\u001b[0m \u001b[0mresult\u001b[0m\u001b[0;34m)\u001b[0m\u001b[0;34m\u001b[0m\u001b[0;34m\u001b[0m\u001b[0m\n\u001b[0m\u001b[1;32m   1841\u001b[0m \u001b[0;34m\u001b[0m\u001b[0m\n",
      "\u001b[0;32m~/opt/anaconda3/lib/python3.7/site-packages/OpenSSL/SSL.py\u001b[0m in \u001b[0;36m_raise_ssl_error\u001b[0;34m(self, ssl, result)\u001b[0m\n\u001b[1;32m   1645\u001b[0m         \u001b[0;32mif\u001b[0m \u001b[0merror\u001b[0m \u001b[0;34m==\u001b[0m \u001b[0m_lib\u001b[0m\u001b[0;34m.\u001b[0m\u001b[0mSSL_ERROR_WANT_READ\u001b[0m\u001b[0;34m:\u001b[0m\u001b[0;34m\u001b[0m\u001b[0;34m\u001b[0m\u001b[0m\n\u001b[0;32m-> 1646\u001b[0;31m             \u001b[0;32mraise\u001b[0m \u001b[0mWantReadError\u001b[0m\u001b[0;34m(\u001b[0m\u001b[0;34m)\u001b[0m\u001b[0;34m\u001b[0m\u001b[0;34m\u001b[0m\u001b[0m\n\u001b[0m\u001b[1;32m   1647\u001b[0m         \u001b[0;32melif\u001b[0m \u001b[0merror\u001b[0m \u001b[0;34m==\u001b[0m \u001b[0m_lib\u001b[0m\u001b[0;34m.\u001b[0m\u001b[0mSSL_ERROR_WANT_WRITE\u001b[0m\u001b[0;34m:\u001b[0m\u001b[0;34m\u001b[0m\u001b[0;34m\u001b[0m\u001b[0m\n",
      "\u001b[0;31mWantReadError\u001b[0m: ",
      "\nDuring handling of the above exception, another exception occurred:\n",
      "\u001b[0;31mKeyboardInterrupt\u001b[0m                         Traceback (most recent call last)",
      "\u001b[0;32m<ipython-input-42-6a9070444200>\u001b[0m in \u001b[0;36m<module>\u001b[0;34m\u001b[0m\n\u001b[1;32m      1\u001b[0m \u001b[0;31m# Iniciando o filtro e gravando os tweets no MongoDB\u001b[0m\u001b[0;34m\u001b[0m\u001b[0;34m\u001b[0m\u001b[0;34m\u001b[0m\u001b[0m\n\u001b[0;32m----> 2\u001b[0;31m \u001b[0mmystream\u001b[0m\u001b[0;34m.\u001b[0m\u001b[0mfilter\u001b[0m\u001b[0;34m(\u001b[0m\u001b[0mtrack\u001b[0m\u001b[0;34m=\u001b[0m\u001b[0mkeywords\u001b[0m\u001b[0;34m)\u001b[0m\u001b[0;34m\u001b[0m\u001b[0;34m\u001b[0m\u001b[0m\n\u001b[0m",
      "\u001b[0;32m~/opt/anaconda3/lib/python3.7/site-packages/tweepy/streaming.py\u001b[0m in \u001b[0;36mfilter\u001b[0;34m(self, follow, track, is_async, locations, stall_warnings, languages, encoding, filter_level)\u001b[0m\n\u001b[1;32m    472\u001b[0m             \u001b[0mself\u001b[0m\u001b[0;34m.\u001b[0m\u001b[0mbody\u001b[0m\u001b[0;34m[\u001b[0m\u001b[0;34m'filter_level'\u001b[0m\u001b[0;34m]\u001b[0m \u001b[0;34m=\u001b[0m \u001b[0mfilter_level\u001b[0m\u001b[0;34m.\u001b[0m\u001b[0mencode\u001b[0m\u001b[0;34m(\u001b[0m\u001b[0mencoding\u001b[0m\u001b[0;34m)\u001b[0m\u001b[0;34m\u001b[0m\u001b[0;34m\u001b[0m\u001b[0m\n\u001b[1;32m    473\u001b[0m         \u001b[0mself\u001b[0m\u001b[0;34m.\u001b[0m\u001b[0msession\u001b[0m\u001b[0;34m.\u001b[0m\u001b[0mparams\u001b[0m \u001b[0;34m=\u001b[0m \u001b[0;34m{\u001b[0m\u001b[0;34m'delimited'\u001b[0m\u001b[0;34m:\u001b[0m \u001b[0;34m'length'\u001b[0m\u001b[0;34m}\u001b[0m\u001b[0;34m\u001b[0m\u001b[0;34m\u001b[0m\u001b[0m\n\u001b[0;32m--> 474\u001b[0;31m         \u001b[0mself\u001b[0m\u001b[0;34m.\u001b[0m\u001b[0m_start\u001b[0m\u001b[0;34m(\u001b[0m\u001b[0mis_async\u001b[0m\u001b[0;34m)\u001b[0m\u001b[0;34m\u001b[0m\u001b[0;34m\u001b[0m\u001b[0m\n\u001b[0m\u001b[1;32m    475\u001b[0m \u001b[0;34m\u001b[0m\u001b[0m\n\u001b[1;32m    476\u001b[0m     def sitestream(self, follow, stall_warnings=False,\n",
      "\u001b[0;32m~/opt/anaconda3/lib/python3.7/site-packages/tweepy/streaming.py\u001b[0m in \u001b[0;36m_start\u001b[0;34m(self, is_async)\u001b[0m\n\u001b[1;32m    387\u001b[0m             \u001b[0mself\u001b[0m\u001b[0;34m.\u001b[0m\u001b[0m_thread\u001b[0m\u001b[0;34m.\u001b[0m\u001b[0mstart\u001b[0m\u001b[0;34m(\u001b[0m\u001b[0;34m)\u001b[0m\u001b[0;34m\u001b[0m\u001b[0;34m\u001b[0m\u001b[0m\n\u001b[1;32m    388\u001b[0m         \u001b[0;32melse\u001b[0m\u001b[0;34m:\u001b[0m\u001b[0;34m\u001b[0m\u001b[0;34m\u001b[0m\u001b[0m\n\u001b[0;32m--> 389\u001b[0;31m             \u001b[0mself\u001b[0m\u001b[0;34m.\u001b[0m\u001b[0m_run\u001b[0m\u001b[0;34m(\u001b[0m\u001b[0;34m)\u001b[0m\u001b[0;34m\u001b[0m\u001b[0;34m\u001b[0m\u001b[0m\n\u001b[0m\u001b[1;32m    390\u001b[0m \u001b[0;34m\u001b[0m\u001b[0m\n\u001b[1;32m    391\u001b[0m     \u001b[0;32mdef\u001b[0m \u001b[0mon_closed\u001b[0m\u001b[0;34m(\u001b[0m\u001b[0mself\u001b[0m\u001b[0;34m,\u001b[0m \u001b[0mresp\u001b[0m\u001b[0;34m)\u001b[0m\u001b[0;34m:\u001b[0m\u001b[0;34m\u001b[0m\u001b[0;34m\u001b[0m\u001b[0m\n",
      "\u001b[0;32m~/opt/anaconda3/lib/python3.7/site-packages/tweepy/streaming.py\u001b[0m in \u001b[0;36m_run\u001b[0;34m(self)\u001b[0m\n\u001b[1;32m    287\u001b[0m                     \u001b[0mself\u001b[0m\u001b[0;34m.\u001b[0m\u001b[0msnooze_time\u001b[0m \u001b[0;34m=\u001b[0m \u001b[0mself\u001b[0m\u001b[0;34m.\u001b[0m\u001b[0msnooze_time_step\u001b[0m\u001b[0;34m\u001b[0m\u001b[0;34m\u001b[0m\u001b[0m\n\u001b[1;32m    288\u001b[0m                     \u001b[0mself\u001b[0m\u001b[0;34m.\u001b[0m\u001b[0mlistener\u001b[0m\u001b[0;34m.\u001b[0m\u001b[0mon_connect\u001b[0m\u001b[0;34m(\u001b[0m\u001b[0;34m)\u001b[0m\u001b[0;34m\u001b[0m\u001b[0;34m\u001b[0m\u001b[0m\n\u001b[0;32m--> 289\u001b[0;31m                     \u001b[0mself\u001b[0m\u001b[0;34m.\u001b[0m\u001b[0m_read_loop\u001b[0m\u001b[0;34m(\u001b[0m\u001b[0mresp\u001b[0m\u001b[0;34m)\u001b[0m\u001b[0;34m\u001b[0m\u001b[0;34m\u001b[0m\u001b[0m\n\u001b[0m\u001b[1;32m    290\u001b[0m             \u001b[0;32mexcept\u001b[0m \u001b[0;34m(\u001b[0m\u001b[0mTimeout\u001b[0m\u001b[0;34m,\u001b[0m \u001b[0mssl\u001b[0m\u001b[0;34m.\u001b[0m\u001b[0mSSLError\u001b[0m\u001b[0;34m)\u001b[0m \u001b[0;32mas\u001b[0m \u001b[0mexc\u001b[0m\u001b[0;34m:\u001b[0m\u001b[0;34m\u001b[0m\u001b[0;34m\u001b[0m\u001b[0m\n\u001b[1;32m    291\u001b[0m                 \u001b[0;31m# This is still necessary, as a SSLError can actually be\u001b[0m\u001b[0;34m\u001b[0m\u001b[0;34m\u001b[0m\u001b[0;34m\u001b[0m\u001b[0m\n",
      "\u001b[0;32m~/opt/anaconda3/lib/python3.7/site-packages/tweepy/streaming.py\u001b[0m in \u001b[0;36m_read_loop\u001b[0;34m(self, resp)\u001b[0m\n\u001b[1;32m    337\u001b[0m             \u001b[0mlength\u001b[0m \u001b[0;34m=\u001b[0m \u001b[0;36m0\u001b[0m\u001b[0;34m\u001b[0m\u001b[0;34m\u001b[0m\u001b[0m\n\u001b[1;32m    338\u001b[0m             \u001b[0;32mwhile\u001b[0m \u001b[0;32mnot\u001b[0m \u001b[0mresp\u001b[0m\u001b[0;34m.\u001b[0m\u001b[0mraw\u001b[0m\u001b[0;34m.\u001b[0m\u001b[0mclosed\u001b[0m\u001b[0;34m:\u001b[0m\u001b[0;34m\u001b[0m\u001b[0;34m\u001b[0m\u001b[0m\n\u001b[0;32m--> 339\u001b[0;31m                 \u001b[0mline\u001b[0m \u001b[0;34m=\u001b[0m \u001b[0mbuf\u001b[0m\u001b[0;34m.\u001b[0m\u001b[0mread_line\u001b[0m\u001b[0;34m(\u001b[0m\u001b[0;34m)\u001b[0m\u001b[0;34m\u001b[0m\u001b[0;34m\u001b[0m\u001b[0m\n\u001b[0m\u001b[1;32m    340\u001b[0m                 \u001b[0mstripped_line\u001b[0m \u001b[0;34m=\u001b[0m \u001b[0mline\u001b[0m\u001b[0;34m.\u001b[0m\u001b[0mstrip\u001b[0m\u001b[0;34m(\u001b[0m\u001b[0;34m)\u001b[0m \u001b[0;32mif\u001b[0m \u001b[0mline\u001b[0m \u001b[0;32melse\u001b[0m \u001b[0mline\u001b[0m \u001b[0;31m# line is sometimes None so we need to check here\u001b[0m\u001b[0;34m\u001b[0m\u001b[0;34m\u001b[0m\u001b[0m\n\u001b[1;32m    341\u001b[0m                 \u001b[0;32mif\u001b[0m \u001b[0;32mnot\u001b[0m \u001b[0mstripped_line\u001b[0m\u001b[0;34m:\u001b[0m\u001b[0;34m\u001b[0m\u001b[0;34m\u001b[0m\u001b[0m\n",
      "\u001b[0;32m~/opt/anaconda3/lib/python3.7/site-packages/tweepy/streaming.py\u001b[0m in \u001b[0;36mread_line\u001b[0;34m(self, sep)\u001b[0m\n\u001b[1;32m    198\u001b[0m             \u001b[0;32melse\u001b[0m\u001b[0;34m:\u001b[0m\u001b[0;34m\u001b[0m\u001b[0;34m\u001b[0m\u001b[0m\n\u001b[1;32m    199\u001b[0m                 \u001b[0mstart\u001b[0m \u001b[0;34m=\u001b[0m \u001b[0mlen\u001b[0m\u001b[0;34m(\u001b[0m\u001b[0mself\u001b[0m\u001b[0;34m.\u001b[0m\u001b[0m_buffer\u001b[0m\u001b[0;34m)\u001b[0m\u001b[0;34m\u001b[0m\u001b[0;34m\u001b[0m\u001b[0m\n\u001b[0;32m--> 200\u001b[0;31m             \u001b[0mself\u001b[0m\u001b[0;34m.\u001b[0m\u001b[0m_buffer\u001b[0m \u001b[0;34m+=\u001b[0m \u001b[0mself\u001b[0m\u001b[0;34m.\u001b[0m\u001b[0m_stream\u001b[0m\u001b[0;34m.\u001b[0m\u001b[0mread\u001b[0m\u001b[0;34m(\u001b[0m\u001b[0mself\u001b[0m\u001b[0;34m.\u001b[0m\u001b[0m_chunk_size\u001b[0m\u001b[0;34m)\u001b[0m\u001b[0;34m\u001b[0m\u001b[0;34m\u001b[0m\u001b[0m\n\u001b[0m\u001b[1;32m    201\u001b[0m         \u001b[0;32mreturn\u001b[0m \u001b[0msix\u001b[0m\u001b[0;34m.\u001b[0m\u001b[0mb\u001b[0m\u001b[0;34m(\u001b[0m\u001b[0;34m''\u001b[0m\u001b[0;34m)\u001b[0m\u001b[0;34m\u001b[0m\u001b[0;34m\u001b[0m\u001b[0m\n\u001b[1;32m    202\u001b[0m \u001b[0;34m\u001b[0m\u001b[0m\n",
      "\u001b[0;32m~/opt/anaconda3/lib/python3.7/site-packages/urllib3/response.py\u001b[0m in \u001b[0;36mread\u001b[0;34m(self, amt, decode_content, cache_content)\u001b[0m\n\u001b[1;32m    505\u001b[0m             \u001b[0;32melse\u001b[0m\u001b[0;34m:\u001b[0m\u001b[0;34m\u001b[0m\u001b[0;34m\u001b[0m\u001b[0m\n\u001b[1;32m    506\u001b[0m                 \u001b[0mcache_content\u001b[0m \u001b[0;34m=\u001b[0m \u001b[0;32mFalse\u001b[0m\u001b[0;34m\u001b[0m\u001b[0;34m\u001b[0m\u001b[0m\n\u001b[0;32m--> 507\u001b[0;31m                 \u001b[0mdata\u001b[0m \u001b[0;34m=\u001b[0m \u001b[0mself\u001b[0m\u001b[0;34m.\u001b[0m\u001b[0m_fp\u001b[0m\u001b[0;34m.\u001b[0m\u001b[0mread\u001b[0m\u001b[0;34m(\u001b[0m\u001b[0mamt\u001b[0m\u001b[0;34m)\u001b[0m \u001b[0;32mif\u001b[0m \u001b[0;32mnot\u001b[0m \u001b[0mfp_closed\u001b[0m \u001b[0;32melse\u001b[0m \u001b[0;34mb\"\"\u001b[0m\u001b[0;34m\u001b[0m\u001b[0;34m\u001b[0m\u001b[0m\n\u001b[0m\u001b[1;32m    508\u001b[0m                 if (\n\u001b[1;32m    509\u001b[0m                     \u001b[0mamt\u001b[0m \u001b[0;34m!=\u001b[0m \u001b[0;36m0\u001b[0m \u001b[0;32mand\u001b[0m \u001b[0;32mnot\u001b[0m \u001b[0mdata\u001b[0m\u001b[0;34m\u001b[0m\u001b[0;34m\u001b[0m\u001b[0m\n",
      "\u001b[0;32m~/opt/anaconda3/lib/python3.7/http/client.py\u001b[0m in \u001b[0;36mread\u001b[0;34m(self, amt)\u001b[0m\n\u001b[1;32m    455\u001b[0m             \u001b[0;31m# Amount is given, implement using readinto\u001b[0m\u001b[0;34m\u001b[0m\u001b[0;34m\u001b[0m\u001b[0;34m\u001b[0m\u001b[0m\n\u001b[1;32m    456\u001b[0m             \u001b[0mb\u001b[0m \u001b[0;34m=\u001b[0m \u001b[0mbytearray\u001b[0m\u001b[0;34m(\u001b[0m\u001b[0mamt\u001b[0m\u001b[0;34m)\u001b[0m\u001b[0;34m\u001b[0m\u001b[0;34m\u001b[0m\u001b[0m\n\u001b[0;32m--> 457\u001b[0;31m             \u001b[0mn\u001b[0m \u001b[0;34m=\u001b[0m \u001b[0mself\u001b[0m\u001b[0;34m.\u001b[0m\u001b[0mreadinto\u001b[0m\u001b[0;34m(\u001b[0m\u001b[0mb\u001b[0m\u001b[0;34m)\u001b[0m\u001b[0;34m\u001b[0m\u001b[0;34m\u001b[0m\u001b[0m\n\u001b[0m\u001b[1;32m    458\u001b[0m             \u001b[0;32mreturn\u001b[0m \u001b[0mmemoryview\u001b[0m\u001b[0;34m(\u001b[0m\u001b[0mb\u001b[0m\u001b[0;34m)\u001b[0m\u001b[0;34m[\u001b[0m\u001b[0;34m:\u001b[0m\u001b[0mn\u001b[0m\u001b[0;34m]\u001b[0m\u001b[0;34m.\u001b[0m\u001b[0mtobytes\u001b[0m\u001b[0;34m(\u001b[0m\u001b[0;34m)\u001b[0m\u001b[0;34m\u001b[0m\u001b[0;34m\u001b[0m\u001b[0m\n\u001b[1;32m    459\u001b[0m         \u001b[0;32melse\u001b[0m\u001b[0;34m:\u001b[0m\u001b[0;34m\u001b[0m\u001b[0;34m\u001b[0m\u001b[0m\n",
      "\u001b[0;32m~/opt/anaconda3/lib/python3.7/http/client.py\u001b[0m in \u001b[0;36mreadinto\u001b[0;34m(self, b)\u001b[0m\n\u001b[1;32m    489\u001b[0m \u001b[0;34m\u001b[0m\u001b[0m\n\u001b[1;32m    490\u001b[0m         \u001b[0;32mif\u001b[0m \u001b[0mself\u001b[0m\u001b[0;34m.\u001b[0m\u001b[0mchunked\u001b[0m\u001b[0;34m:\u001b[0m\u001b[0;34m\u001b[0m\u001b[0;34m\u001b[0m\u001b[0m\n\u001b[0;32m--> 491\u001b[0;31m             \u001b[0;32mreturn\u001b[0m \u001b[0mself\u001b[0m\u001b[0;34m.\u001b[0m\u001b[0m_readinto_chunked\u001b[0m\u001b[0;34m(\u001b[0m\u001b[0mb\u001b[0m\u001b[0;34m)\u001b[0m\u001b[0;34m\u001b[0m\u001b[0;34m\u001b[0m\u001b[0m\n\u001b[0m\u001b[1;32m    492\u001b[0m \u001b[0;34m\u001b[0m\u001b[0m\n\u001b[1;32m    493\u001b[0m         \u001b[0;32mif\u001b[0m \u001b[0mself\u001b[0m\u001b[0;34m.\u001b[0m\u001b[0mlength\u001b[0m \u001b[0;32mis\u001b[0m \u001b[0;32mnot\u001b[0m \u001b[0;32mNone\u001b[0m\u001b[0;34m:\u001b[0m\u001b[0;34m\u001b[0m\u001b[0;34m\u001b[0m\u001b[0m\n",
      "\u001b[0;32m~/opt/anaconda3/lib/python3.7/http/client.py\u001b[0m in \u001b[0;36m_readinto_chunked\u001b[0;34m(self, b)\u001b[0m\n\u001b[1;32m    584\u001b[0m         \u001b[0;32mtry\u001b[0m\u001b[0;34m:\u001b[0m\u001b[0;34m\u001b[0m\u001b[0;34m\u001b[0m\u001b[0m\n\u001b[1;32m    585\u001b[0m             \u001b[0;32mwhile\u001b[0m \u001b[0;32mTrue\u001b[0m\u001b[0;34m:\u001b[0m\u001b[0;34m\u001b[0m\u001b[0;34m\u001b[0m\u001b[0m\n\u001b[0;32m--> 586\u001b[0;31m                 \u001b[0mchunk_left\u001b[0m \u001b[0;34m=\u001b[0m \u001b[0mself\u001b[0m\u001b[0;34m.\u001b[0m\u001b[0m_get_chunk_left\u001b[0m\u001b[0;34m(\u001b[0m\u001b[0;34m)\u001b[0m\u001b[0;34m\u001b[0m\u001b[0;34m\u001b[0m\u001b[0m\n\u001b[0m\u001b[1;32m    587\u001b[0m                 \u001b[0;32mif\u001b[0m \u001b[0mchunk_left\u001b[0m \u001b[0;32mis\u001b[0m \u001b[0;32mNone\u001b[0m\u001b[0;34m:\u001b[0m\u001b[0;34m\u001b[0m\u001b[0;34m\u001b[0m\u001b[0m\n\u001b[1;32m    588\u001b[0m                     \u001b[0;32mreturn\u001b[0m \u001b[0mtotal_bytes\u001b[0m\u001b[0;34m\u001b[0m\u001b[0;34m\u001b[0m\u001b[0m\n",
      "\u001b[0;32m~/opt/anaconda3/lib/python3.7/http/client.py\u001b[0m in \u001b[0;36m_get_chunk_left\u001b[0;34m(self)\u001b[0m\n\u001b[1;32m    552\u001b[0m                 \u001b[0mself\u001b[0m\u001b[0;34m.\u001b[0m\u001b[0m_safe_read\u001b[0m\u001b[0;34m(\u001b[0m\u001b[0;36m2\u001b[0m\u001b[0;34m)\u001b[0m  \u001b[0;31m# toss the CRLF at the end of the chunk\u001b[0m\u001b[0;34m\u001b[0m\u001b[0;34m\u001b[0m\u001b[0m\n\u001b[1;32m    553\u001b[0m             \u001b[0;32mtry\u001b[0m\u001b[0;34m:\u001b[0m\u001b[0;34m\u001b[0m\u001b[0;34m\u001b[0m\u001b[0m\n\u001b[0;32m--> 554\u001b[0;31m                 \u001b[0mchunk_left\u001b[0m \u001b[0;34m=\u001b[0m \u001b[0mself\u001b[0m\u001b[0;34m.\u001b[0m\u001b[0m_read_next_chunk_size\u001b[0m\u001b[0;34m(\u001b[0m\u001b[0;34m)\u001b[0m\u001b[0;34m\u001b[0m\u001b[0;34m\u001b[0m\u001b[0m\n\u001b[0m\u001b[1;32m    555\u001b[0m             \u001b[0;32mexcept\u001b[0m \u001b[0mValueError\u001b[0m\u001b[0;34m:\u001b[0m\u001b[0;34m\u001b[0m\u001b[0;34m\u001b[0m\u001b[0m\n\u001b[1;32m    556\u001b[0m                 \u001b[0;32mraise\u001b[0m \u001b[0mIncompleteRead\u001b[0m\u001b[0;34m(\u001b[0m\u001b[0;34mb''\u001b[0m\u001b[0;34m)\u001b[0m\u001b[0;34m\u001b[0m\u001b[0;34m\u001b[0m\u001b[0m\n",
      "\u001b[0;32m~/opt/anaconda3/lib/python3.7/http/client.py\u001b[0m in \u001b[0;36m_read_next_chunk_size\u001b[0;34m(self)\u001b[0m\n\u001b[1;32m    512\u001b[0m     \u001b[0;32mdef\u001b[0m \u001b[0m_read_next_chunk_size\u001b[0m\u001b[0;34m(\u001b[0m\u001b[0mself\u001b[0m\u001b[0;34m)\u001b[0m\u001b[0;34m:\u001b[0m\u001b[0;34m\u001b[0m\u001b[0;34m\u001b[0m\u001b[0m\n\u001b[1;32m    513\u001b[0m         \u001b[0;31m# Read the next chunk size from the file\u001b[0m\u001b[0;34m\u001b[0m\u001b[0;34m\u001b[0m\u001b[0;34m\u001b[0m\u001b[0m\n\u001b[0;32m--> 514\u001b[0;31m         \u001b[0mline\u001b[0m \u001b[0;34m=\u001b[0m \u001b[0mself\u001b[0m\u001b[0;34m.\u001b[0m\u001b[0mfp\u001b[0m\u001b[0;34m.\u001b[0m\u001b[0mreadline\u001b[0m\u001b[0;34m(\u001b[0m\u001b[0m_MAXLINE\u001b[0m \u001b[0;34m+\u001b[0m \u001b[0;36m1\u001b[0m\u001b[0;34m)\u001b[0m\u001b[0;34m\u001b[0m\u001b[0;34m\u001b[0m\u001b[0m\n\u001b[0m\u001b[1;32m    515\u001b[0m         \u001b[0;32mif\u001b[0m \u001b[0mlen\u001b[0m\u001b[0;34m(\u001b[0m\u001b[0mline\u001b[0m\u001b[0;34m)\u001b[0m \u001b[0;34m>\u001b[0m \u001b[0m_MAXLINE\u001b[0m\u001b[0;34m:\u001b[0m\u001b[0;34m\u001b[0m\u001b[0;34m\u001b[0m\u001b[0m\n\u001b[1;32m    516\u001b[0m             \u001b[0;32mraise\u001b[0m \u001b[0mLineTooLong\u001b[0m\u001b[0;34m(\u001b[0m\u001b[0;34m\"chunk size\"\u001b[0m\u001b[0;34m)\u001b[0m\u001b[0;34m\u001b[0m\u001b[0;34m\u001b[0m\u001b[0m\n",
      "\u001b[0;32m~/opt/anaconda3/lib/python3.7/socket.py\u001b[0m in \u001b[0;36mreadinto\u001b[0;34m(self, b)\u001b[0m\n\u001b[1;32m    587\u001b[0m         \u001b[0;32mwhile\u001b[0m \u001b[0;32mTrue\u001b[0m\u001b[0;34m:\u001b[0m\u001b[0;34m\u001b[0m\u001b[0;34m\u001b[0m\u001b[0m\n\u001b[1;32m    588\u001b[0m             \u001b[0;32mtry\u001b[0m\u001b[0;34m:\u001b[0m\u001b[0;34m\u001b[0m\u001b[0;34m\u001b[0m\u001b[0m\n\u001b[0;32m--> 589\u001b[0;31m                 \u001b[0;32mreturn\u001b[0m \u001b[0mself\u001b[0m\u001b[0;34m.\u001b[0m\u001b[0m_sock\u001b[0m\u001b[0;34m.\u001b[0m\u001b[0mrecv_into\u001b[0m\u001b[0;34m(\u001b[0m\u001b[0mb\u001b[0m\u001b[0;34m)\u001b[0m\u001b[0;34m\u001b[0m\u001b[0;34m\u001b[0m\u001b[0m\n\u001b[0m\u001b[1;32m    590\u001b[0m             \u001b[0;32mexcept\u001b[0m \u001b[0mtimeout\u001b[0m\u001b[0;34m:\u001b[0m\u001b[0;34m\u001b[0m\u001b[0;34m\u001b[0m\u001b[0m\n\u001b[1;32m    591\u001b[0m                 \u001b[0mself\u001b[0m\u001b[0;34m.\u001b[0m\u001b[0m_timeout_occurred\u001b[0m \u001b[0;34m=\u001b[0m \u001b[0;32mTrue\u001b[0m\u001b[0;34m\u001b[0m\u001b[0;34m\u001b[0m\u001b[0m\n",
      "\u001b[0;32m~/opt/anaconda3/lib/python3.7/site-packages/urllib3/contrib/pyopenssl.py\u001b[0m in \u001b[0;36mrecv_into\u001b[0;34m(self, *args, **kwargs)\u001b[0m\n\u001b[1;32m    323\u001b[0m                 \u001b[0;32mraise\u001b[0m\u001b[0;34m\u001b[0m\u001b[0;34m\u001b[0m\u001b[0m\n\u001b[1;32m    324\u001b[0m         \u001b[0;32mexcept\u001b[0m \u001b[0mOpenSSL\u001b[0m\u001b[0;34m.\u001b[0m\u001b[0mSSL\u001b[0m\u001b[0;34m.\u001b[0m\u001b[0mWantReadError\u001b[0m\u001b[0;34m:\u001b[0m\u001b[0;34m\u001b[0m\u001b[0;34m\u001b[0m\u001b[0m\n\u001b[0;32m--> 325\u001b[0;31m             \u001b[0;32mif\u001b[0m \u001b[0;32mnot\u001b[0m \u001b[0mutil\u001b[0m\u001b[0;34m.\u001b[0m\u001b[0mwait_for_read\u001b[0m\u001b[0;34m(\u001b[0m\u001b[0mself\u001b[0m\u001b[0;34m.\u001b[0m\u001b[0msocket\u001b[0m\u001b[0;34m,\u001b[0m \u001b[0mself\u001b[0m\u001b[0;34m.\u001b[0m\u001b[0msocket\u001b[0m\u001b[0;34m.\u001b[0m\u001b[0mgettimeout\u001b[0m\u001b[0;34m(\u001b[0m\u001b[0;34m)\u001b[0m\u001b[0;34m)\u001b[0m\u001b[0;34m:\u001b[0m\u001b[0;34m\u001b[0m\u001b[0;34m\u001b[0m\u001b[0m\n\u001b[0m\u001b[1;32m    326\u001b[0m                 \u001b[0;32mraise\u001b[0m \u001b[0mtimeout\u001b[0m\u001b[0;34m(\u001b[0m\u001b[0;34m\"The read operation timed out\"\u001b[0m\u001b[0;34m)\u001b[0m\u001b[0;34m\u001b[0m\u001b[0;34m\u001b[0m\u001b[0m\n\u001b[1;32m    327\u001b[0m             \u001b[0;32melse\u001b[0m\u001b[0;34m:\u001b[0m\u001b[0;34m\u001b[0m\u001b[0;34m\u001b[0m\u001b[0m\n",
      "\u001b[0;32m~/opt/anaconda3/lib/python3.7/site-packages/urllib3/util/wait.py\u001b[0m in \u001b[0;36mwait_for_read\u001b[0;34m(sock, timeout)\u001b[0m\n\u001b[1;32m    144\u001b[0m     \u001b[0mReturns\u001b[0m \u001b[0;32mTrue\u001b[0m \u001b[0;32mif\u001b[0m \u001b[0mthe\u001b[0m \u001b[0msocket\u001b[0m \u001b[0;32mis\u001b[0m \u001b[0mreadable\u001b[0m\u001b[0;34m,\u001b[0m \u001b[0;32mor\u001b[0m \u001b[0;32mFalse\u001b[0m \u001b[0;32mif\u001b[0m \u001b[0mthe\u001b[0m \u001b[0mtimeout\u001b[0m \u001b[0mexpired\u001b[0m\u001b[0;34m.\u001b[0m\u001b[0;34m\u001b[0m\u001b[0;34m\u001b[0m\u001b[0m\n\u001b[1;32m    145\u001b[0m     \"\"\"\n\u001b[0;32m--> 146\u001b[0;31m     \u001b[0;32mreturn\u001b[0m \u001b[0mwait_for_socket\u001b[0m\u001b[0;34m(\u001b[0m\u001b[0msock\u001b[0m\u001b[0;34m,\u001b[0m \u001b[0mread\u001b[0m\u001b[0;34m=\u001b[0m\u001b[0;32mTrue\u001b[0m\u001b[0;34m,\u001b[0m \u001b[0mtimeout\u001b[0m\u001b[0;34m=\u001b[0m\u001b[0mtimeout\u001b[0m\u001b[0;34m)\u001b[0m\u001b[0;34m\u001b[0m\u001b[0;34m\u001b[0m\u001b[0m\n\u001b[0m\u001b[1;32m    147\u001b[0m \u001b[0;34m\u001b[0m\u001b[0m\n\u001b[1;32m    148\u001b[0m \u001b[0;34m\u001b[0m\u001b[0m\n",
      "\u001b[0;32m~/opt/anaconda3/lib/python3.7/site-packages/urllib3/util/wait.py\u001b[0m in \u001b[0;36mpoll_wait_for_socket\u001b[0;34m(sock, read, write, timeout)\u001b[0m\n\u001b[1;32m    105\u001b[0m         \u001b[0;32mreturn\u001b[0m \u001b[0mpoll_obj\u001b[0m\u001b[0;34m.\u001b[0m\u001b[0mpoll\u001b[0m\u001b[0;34m(\u001b[0m\u001b[0mt\u001b[0m\u001b[0;34m)\u001b[0m\u001b[0;34m\u001b[0m\u001b[0;34m\u001b[0m\u001b[0m\n\u001b[1;32m    106\u001b[0m \u001b[0;34m\u001b[0m\u001b[0m\n\u001b[0;32m--> 107\u001b[0;31m     \u001b[0;32mreturn\u001b[0m \u001b[0mbool\u001b[0m\u001b[0;34m(\u001b[0m\u001b[0m_retry_on_intr\u001b[0m\u001b[0;34m(\u001b[0m\u001b[0mdo_poll\u001b[0m\u001b[0;34m,\u001b[0m \u001b[0mtimeout\u001b[0m\u001b[0;34m)\u001b[0m\u001b[0;34m)\u001b[0m\u001b[0;34m\u001b[0m\u001b[0;34m\u001b[0m\u001b[0m\n\u001b[0m\u001b[1;32m    108\u001b[0m \u001b[0;34m\u001b[0m\u001b[0m\n\u001b[1;32m    109\u001b[0m \u001b[0;34m\u001b[0m\u001b[0m\n",
      "\u001b[0;32m~/opt/anaconda3/lib/python3.7/site-packages/urllib3/util/wait.py\u001b[0m in \u001b[0;36m_retry_on_intr\u001b[0;34m(fn, timeout)\u001b[0m\n\u001b[1;32m     41\u001b[0m     \u001b[0;31m# Modern Python, that retries syscalls by default\u001b[0m\u001b[0;34m\u001b[0m\u001b[0;34m\u001b[0m\u001b[0;34m\u001b[0m\u001b[0m\n\u001b[1;32m     42\u001b[0m     \u001b[0;32mdef\u001b[0m \u001b[0m_retry_on_intr\u001b[0m\u001b[0;34m(\u001b[0m\u001b[0mfn\u001b[0m\u001b[0;34m,\u001b[0m \u001b[0mtimeout\u001b[0m\u001b[0;34m)\u001b[0m\u001b[0;34m:\u001b[0m\u001b[0;34m\u001b[0m\u001b[0;34m\u001b[0m\u001b[0m\n\u001b[0;32m---> 43\u001b[0;31m         \u001b[0;32mreturn\u001b[0m \u001b[0mfn\u001b[0m\u001b[0;34m(\u001b[0m\u001b[0mtimeout\u001b[0m\u001b[0;34m)\u001b[0m\u001b[0;34m\u001b[0m\u001b[0;34m\u001b[0m\u001b[0m\n\u001b[0m\u001b[1;32m     44\u001b[0m \u001b[0;34m\u001b[0m\u001b[0m\n\u001b[1;32m     45\u001b[0m \u001b[0;34m\u001b[0m\u001b[0m\n",
      "\u001b[0;32m~/opt/anaconda3/lib/python3.7/site-packages/urllib3/util/wait.py\u001b[0m in \u001b[0;36mdo_poll\u001b[0;34m(t)\u001b[0m\n\u001b[1;32m    103\u001b[0m         \u001b[0;32mif\u001b[0m \u001b[0mt\u001b[0m \u001b[0;32mis\u001b[0m \u001b[0;32mnot\u001b[0m \u001b[0;32mNone\u001b[0m\u001b[0;34m:\u001b[0m\u001b[0;34m\u001b[0m\u001b[0;34m\u001b[0m\u001b[0m\n\u001b[1;32m    104\u001b[0m             \u001b[0mt\u001b[0m \u001b[0;34m*=\u001b[0m \u001b[0;36m1000\u001b[0m\u001b[0;34m\u001b[0m\u001b[0;34m\u001b[0m\u001b[0m\n\u001b[0;32m--> 105\u001b[0;31m         \u001b[0;32mreturn\u001b[0m \u001b[0mpoll_obj\u001b[0m\u001b[0;34m.\u001b[0m\u001b[0mpoll\u001b[0m\u001b[0;34m(\u001b[0m\u001b[0mt\u001b[0m\u001b[0;34m)\u001b[0m\u001b[0;34m\u001b[0m\u001b[0;34m\u001b[0m\u001b[0m\n\u001b[0m\u001b[1;32m    106\u001b[0m \u001b[0;34m\u001b[0m\u001b[0m\n\u001b[1;32m    107\u001b[0m     \u001b[0;32mreturn\u001b[0m \u001b[0mbool\u001b[0m\u001b[0;34m(\u001b[0m\u001b[0m_retry_on_intr\u001b[0m\u001b[0;34m(\u001b[0m\u001b[0mdo_poll\u001b[0m\u001b[0;34m,\u001b[0m \u001b[0mtimeout\u001b[0m\u001b[0;34m)\u001b[0m\u001b[0;34m)\u001b[0m\u001b[0;34m\u001b[0m\u001b[0;34m\u001b[0m\u001b[0m\n",
      "\u001b[0;31mKeyboardInterrupt\u001b[0m: "
     ]
    }
   ],
   "source": [
    "# Iniciando o filtro e gravando os tweets no MongoDB\n",
    "mystream.filter(track=keywords)"
   ]
  },
  {
   "cell_type": "markdown",
   "metadata": {},
   "source": [
    "## --> Pressione o botão Stop na barra de ferramentas para encerrar a captura dos Tweets"
   ]
  },
  {
   "cell_type": "markdown",
   "metadata": {},
   "source": [
    "## Consultando os Dados no MongoDB"
   ]
  },
  {
   "cell_type": "code",
   "execution_count": 43,
   "metadata": {},
   "outputs": [],
   "source": [
    "mystream.disconnect()"
   ]
  },
  {
   "cell_type": "code",
   "execution_count": 44,
   "metadata": {},
   "outputs": [
    {
     "data": {
      "text/plain": [
       "{'_id': ObjectId('5ffde77f70567cf65e617194'),\n",
       " 'created_at': 'Tue Jan 12 18:16:26 +0000 2021',\n",
       " 'id_str': '1349057664794300421',\n",
       " 'text': 'RT @gp_pulipaka: Top 10 Best Machine Learning Books in 2021. #BigData #Analytics #DataScience #IoT #IIoT #PyTorch #Python #RStats #TensorFl…'}"
      ]
     },
     "execution_count": 44,
     "metadata": {},
     "output_type": "execute_result"
    }
   ],
   "source": [
    "# Verificando um documento no collection\n",
    "col.find_one()"
   ]
  },
  {
   "cell_type": "markdown",
   "metadata": {},
   "source": [
    "## Análise de Dados com Pandas e Scikit-Learn"
   ]
  },
  {
   "cell_type": "code",
   "execution_count": 45,
   "metadata": {},
   "outputs": [],
   "source": [
    "# criando um dataset com dados retornados do MongoDB\n",
    "dataset = [{\"created_at\": item[\"created_at\"], \"text\": item[\"text\"],} for item in col.find()]"
   ]
  },
  {
   "cell_type": "code",
   "execution_count": 46,
   "metadata": {},
   "outputs": [
    {
     "data": {
      "text/plain": [
       "'1.0.1'"
      ]
     },
     "execution_count": 46,
     "metadata": {},
     "output_type": "execute_result"
    }
   ],
   "source": [
    "# Importando o módulo Pandas para trabalhar com datasets em Python\n",
    "import pandas as pd\n",
    "pd.__version__"
   ]
  },
  {
   "cell_type": "code",
   "execution_count": 47,
   "metadata": {},
   "outputs": [],
   "source": [
    "# Criando um dataframe a partir do dataset \n",
    "df = pd.DataFrame(dataset)"
   ]
  },
  {
   "cell_type": "code",
   "execution_count": 48,
   "metadata": {},
   "outputs": [
    {
     "data": {
      "text/html": [
       "<div>\n",
       "<style scoped>\n",
       "    .dataframe tbody tr th:only-of-type {\n",
       "        vertical-align: middle;\n",
       "    }\n",
       "\n",
       "    .dataframe tbody tr th {\n",
       "        vertical-align: top;\n",
       "    }\n",
       "\n",
       "    .dataframe thead th {\n",
       "        text-align: right;\n",
       "    }\n",
       "</style>\n",
       "<table border=\"1\" class=\"dataframe\">\n",
       "  <thead>\n",
       "    <tr style=\"text-align: right;\">\n",
       "      <th></th>\n",
       "      <th>created_at</th>\n",
       "      <th>text</th>\n",
       "    </tr>\n",
       "  </thead>\n",
       "  <tbody>\n",
       "    <tr>\n",
       "      <th>0</th>\n",
       "      <td>Tue Jan 12 18:16:26 +0000 2021</td>\n",
       "      <td>RT @gp_pulipaka: Top 10 Best Machine Learning ...</td>\n",
       "    </tr>\n",
       "    <tr>\n",
       "      <th>1</th>\n",
       "      <td>Tue Jan 12 18:16:26 +0000 2021</td>\n",
       "      <td>RT @ChibuzoFelix_1: Wether Signal or Telegram,...</td>\n",
       "    </tr>\n",
       "    <tr>\n",
       "      <th>2</th>\n",
       "      <td>Tue Jan 12 18:16:31 +0000 2021</td>\n",
       "      <td>RT @HarbRimah: Google is using AI to create we...</td>\n",
       "    </tr>\n",
       "    <tr>\n",
       "      <th>3</th>\n",
       "      <td>Tue Jan 12 18:16:33 +0000 2021</td>\n",
       "      <td>RT @AutomationAnywh: 🤔  \"How can I extract a p...</td>\n",
       "    </tr>\n",
       "    <tr>\n",
       "      <th>4</th>\n",
       "      <td>Tue Jan 12 18:16:35 +0000 2021</td>\n",
       "      <td>Team A</td>\n",
       "    </tr>\n",
       "    <tr>\n",
       "      <th>...</th>\n",
       "      <td>...</td>\n",
       "      <td>...</td>\n",
       "    </tr>\n",
       "    <tr>\n",
       "      <th>293</th>\n",
       "      <td>Tue Jan 12 18:27:09 +0000 2021</td>\n",
       "      <td>@FontesVania @joaoamoedonovo Se não acredita, ...</td>\n",
       "    </tr>\n",
       "    <tr>\n",
       "      <th>294</th>\n",
       "      <td>Tue Jan 12 18:27:09 +0000 2021</td>\n",
       "      <td>RT @andrefernm: Ué Ciro, a economia a gente nã...</td>\n",
       "    </tr>\n",
       "    <tr>\n",
       "      <th>295</th>\n",
       "      <td>Tue Jan 12 18:27:09 +0000 2021</td>\n",
       "      <td>Bora tomar a vacina</td>\n",
       "    </tr>\n",
       "    <tr>\n",
       "      <th>296</th>\n",
       "      <td>Tue Jan 12 18:27:09 +0000 2021</td>\n",
       "      <td>RT @demori: \"Essa empresa quer incentivos fisc...</td>\n",
       "    </tr>\n",
       "    <tr>\n",
       "      <th>297</th>\n",
       "      <td>Tue Jan 12 18:27:09 +0000 2021</td>\n",
       "      <td>RT @MariaSo92340189: @JornalOGlobo Lesa pátria...</td>\n",
       "    </tr>\n",
       "  </tbody>\n",
       "</table>\n",
       "<p>298 rows × 2 columns</p>\n",
       "</div>"
      ],
      "text/plain": [
       "                         created_at  \\\n",
       "0    Tue Jan 12 18:16:26 +0000 2021   \n",
       "1    Tue Jan 12 18:16:26 +0000 2021   \n",
       "2    Tue Jan 12 18:16:31 +0000 2021   \n",
       "3    Tue Jan 12 18:16:33 +0000 2021   \n",
       "4    Tue Jan 12 18:16:35 +0000 2021   \n",
       "..                              ...   \n",
       "293  Tue Jan 12 18:27:09 +0000 2021   \n",
       "294  Tue Jan 12 18:27:09 +0000 2021   \n",
       "295  Tue Jan 12 18:27:09 +0000 2021   \n",
       "296  Tue Jan 12 18:27:09 +0000 2021   \n",
       "297  Tue Jan 12 18:27:09 +0000 2021   \n",
       "\n",
       "                                                  text  \n",
       "0    RT @gp_pulipaka: Top 10 Best Machine Learning ...  \n",
       "1    RT @ChibuzoFelix_1: Wether Signal or Telegram,...  \n",
       "2    RT @HarbRimah: Google is using AI to create we...  \n",
       "3    RT @AutomationAnywh: 🤔  \"How can I extract a p...  \n",
       "4                                               Team A  \n",
       "..                                                 ...  \n",
       "293  @FontesVania @joaoamoedonovo Se não acredita, ...  \n",
       "294  RT @andrefernm: Ué Ciro, a economia a gente nã...  \n",
       "295                                Bora tomar a vacina  \n",
       "296  RT @demori: \"Essa empresa quer incentivos fisc...  \n",
       "297  RT @MariaSo92340189: @JornalOGlobo Lesa pátria...  \n",
       "\n",
       "[298 rows x 2 columns]"
      ]
     },
     "execution_count": 48,
     "metadata": {},
     "output_type": "execute_result"
    }
   ],
   "source": [
    "# Imprimindo o dataframe\n",
    "df"
   ]
  },
  {
   "cell_type": "code",
   "execution_count": 49,
   "metadata": {},
   "outputs": [],
   "source": [
    "# Importando o módulo Scikit Learn\n",
    "from sklearn.feature_extraction.text import CountVectorizer"
   ]
  },
  {
   "cell_type": "code",
   "execution_count": 50,
   "metadata": {},
   "outputs": [
    {
     "data": {
      "text/plain": [
       "'0.22.1'"
      ]
     },
     "execution_count": 50,
     "metadata": {},
     "output_type": "execute_result"
    }
   ],
   "source": [
    "import sklearn\n",
    "sklearn.__version__"
   ]
  },
  {
   "cell_type": "code",
   "execution_count": 51,
   "metadata": {},
   "outputs": [],
   "source": [
    "# Usando o método CountVectorizer para criar uma matriz de documentos\n",
    "cv = CountVectorizer()\n",
    "count_matrix = cv.fit_transform(df.text)"
   ]
  },
  {
   "cell_type": "code",
   "execution_count": 52,
   "metadata": {},
   "outputs": [
    {
     "data": {
      "text/html": [
       "<div>\n",
       "<style scoped>\n",
       "    .dataframe tbody tr th:only-of-type {\n",
       "        vertical-align: middle;\n",
       "    }\n",
       "\n",
       "    .dataframe tbody tr th {\n",
       "        vertical-align: top;\n",
       "    }\n",
       "\n",
       "    .dataframe thead th {\n",
       "        text-align: right;\n",
       "    }\n",
       "</style>\n",
       "<table border=\"1\" class=\"dataframe\">\n",
       "  <thead>\n",
       "    <tr style=\"text-align: right;\">\n",
       "      <th></th>\n",
       "      <th>word</th>\n",
       "      <th>count</th>\n",
       "    </tr>\n",
       "  </thead>\n",
       "  <tbody>\n",
       "    <tr>\n",
       "      <th>0</th>\n",
       "      <td>rt</td>\n",
       "      <td>211</td>\n",
       "    </tr>\n",
       "    <tr>\n",
       "      <th>1</th>\n",
       "      <td>de</td>\n",
       "      <td>154</td>\n",
       "    </tr>\n",
       "    <tr>\n",
       "      <th>2</th>\n",
       "      <td>que</td>\n",
       "      <td>106</td>\n",
       "    </tr>\n",
       "    <tr>\n",
       "      <th>3</th>\n",
       "      <td>brasil</td>\n",
       "      <td>104</td>\n",
       "    </tr>\n",
       "    <tr>\n",
       "      <th>4</th>\n",
       "      <td>https</td>\n",
       "      <td>103</td>\n",
       "    </tr>\n",
       "    <tr>\n",
       "      <th>5</th>\n",
       "      <td>co</td>\n",
       "      <td>101</td>\n",
       "    </tr>\n",
       "    <tr>\n",
       "      <th>6</th>\n",
       "      <td>do</td>\n",
       "      <td>79</td>\n",
       "    </tr>\n",
       "    <tr>\n",
       "      <th>7</th>\n",
       "      <td>no</td>\n",
       "      <td>72</td>\n",
       "    </tr>\n",
       "    <tr>\n",
       "      <th>8</th>\n",
       "      <td>bolsonaro</td>\n",
       "      <td>67</td>\n",
       "    </tr>\n",
       "    <tr>\n",
       "      <th>9</th>\n",
       "      <td>não</td>\n",
       "      <td>65</td>\n",
       "    </tr>\n",
       "    <tr>\n",
       "      <th>10</th>\n",
       "      <td>ford</td>\n",
       "      <td>61</td>\n",
       "    </tr>\n",
       "    <tr>\n",
       "      <th>11</th>\n",
       "      <td>da</td>\n",
       "      <td>57</td>\n",
       "    </tr>\n",
       "    <tr>\n",
       "      <th>12</th>\n",
       "      <td>se</td>\n",
       "      <td>38</td>\n",
       "    </tr>\n",
       "    <tr>\n",
       "      <th>13</th>\n",
       "      <td>com</td>\n",
       "      <td>34</td>\n",
       "    </tr>\n",
       "    <tr>\n",
       "      <th>14</th>\n",
       "      <td>em</td>\n",
       "      <td>31</td>\n",
       "    </tr>\n",
       "    <tr>\n",
       "      <th>15</th>\n",
       "      <td>como</td>\n",
       "      <td>29</td>\n",
       "    </tr>\n",
       "    <tr>\n",
       "      <th>16</th>\n",
       "      <td>para</td>\n",
       "      <td>28</td>\n",
       "    </tr>\n",
       "    <tr>\n",
       "      <th>17</th>\n",
       "      <td>por</td>\n",
       "      <td>26</td>\n",
       "    </tr>\n",
       "    <tr>\n",
       "      <th>18</th>\n",
       "      <td>um</td>\n",
       "      <td>24</td>\n",
       "    </tr>\n",
       "    <tr>\n",
       "      <th>19</th>\n",
       "      <td>vai</td>\n",
       "      <td>23</td>\n",
       "    </tr>\n",
       "    <tr>\n",
       "      <th>20</th>\n",
       "      <td>vacina</td>\n",
       "      <td>22</td>\n",
       "    </tr>\n",
       "    <tr>\n",
       "      <th>21</th>\n",
       "      <td>tem</td>\n",
       "      <td>22</td>\n",
       "    </tr>\n",
       "    <tr>\n",
       "      <th>22</th>\n",
       "      <td>assim</td>\n",
       "      <td>22</td>\n",
       "    </tr>\n",
       "    <tr>\n",
       "      <th>23</th>\n",
       "      <td>na</td>\n",
       "      <td>20</td>\n",
       "    </tr>\n",
       "    <tr>\n",
       "      <th>24</th>\n",
       "      <td>atividades</td>\n",
       "      <td>18</td>\n",
       "    </tr>\n",
       "    <tr>\n",
       "      <th>25</th>\n",
       "      <td>gostaria</td>\n",
       "      <td>17</td>\n",
       "    </tr>\n",
       "    <tr>\n",
       "      <th>26</th>\n",
       "      <td>encerrar</td>\n",
       "      <td>17</td>\n",
       "    </tr>\n",
       "    <tr>\n",
       "      <th>27</th>\n",
       "      <td>ser</td>\n",
       "      <td>17</td>\n",
       "    </tr>\n",
       "    <tr>\n",
       "      <th>28</th>\n",
       "      <td>rangermatheus</td>\n",
       "      <td>17</td>\n",
       "    </tr>\n",
       "    <tr>\n",
       "      <th>29</th>\n",
       "      <td>minhas</td>\n",
       "      <td>17</td>\n",
       "    </tr>\n",
       "    <tr>\n",
       "      <th>30</th>\n",
       "      <td>python</td>\n",
       "      <td>16</td>\n",
       "    </tr>\n",
       "    <tr>\n",
       "      <th>31</th>\n",
       "      <td>eficácia</td>\n",
       "      <td>16</td>\n",
       "    </tr>\n",
       "    <tr>\n",
       "      <th>32</th>\n",
       "      <td>as</td>\n",
       "      <td>16</td>\n",
       "    </tr>\n",
       "    <tr>\n",
       "      <th>33</th>\n",
       "      <td>mais</td>\n",
       "      <td>16</td>\n",
       "    </tr>\n",
       "    <tr>\n",
       "      <th>34</th>\n",
       "      <td>dia</td>\n",
       "      <td>16</td>\n",
       "    </tr>\n",
       "    <tr>\n",
       "      <th>35</th>\n",
       "      <td>governo</td>\n",
       "      <td>15</td>\n",
       "    </tr>\n",
       "    <tr>\n",
       "      <th>36</th>\n",
       "      <td>mas</td>\n",
       "      <td>15</td>\n",
       "    </tr>\n",
       "    <tr>\n",
       "      <th>37</th>\n",
       "      <td>presidente</td>\n",
       "      <td>15</td>\n",
       "    </tr>\n",
       "    <tr>\n",
       "      <th>38</th>\n",
       "      <td>pazuello</td>\n",
       "      <td>14</td>\n",
       "    </tr>\n",
       "    <tr>\n",
       "      <th>39</th>\n",
       "      <td>pra</td>\n",
       "      <td>14</td>\n",
       "    </tr>\n",
       "    <tr>\n",
       "      <th>40</th>\n",
       "      <td>uma</td>\n",
       "      <td>14</td>\n",
       "    </tr>\n",
       "    <tr>\n",
       "      <th>41</th>\n",
       "      <td>38</td>\n",
       "      <td>14</td>\n",
       "    </tr>\n",
       "    <tr>\n",
       "      <th>42</th>\n",
       "      <td>la</td>\n",
       "      <td>13</td>\n",
       "    </tr>\n",
       "    <tr>\n",
       "      <th>43</th>\n",
       "      <td>gente</td>\n",
       "      <td>13</td>\n",
       "    </tr>\n",
       "    <tr>\n",
       "      <th>44</th>\n",
       "      <td>eu</td>\n",
       "      <td>13</td>\n",
       "    </tr>\n",
       "    <tr>\n",
       "      <th>45</th>\n",
       "      <td>sobre</td>\n",
       "      <td>13</td>\n",
       "    </tr>\n",
       "    <tr>\n",
       "      <th>46</th>\n",
       "      <td>coronavac</td>\n",
       "      <td>12</td>\n",
       "    </tr>\n",
       "    <tr>\n",
       "      <th>47</th>\n",
       "      <td>me</td>\n",
       "      <td>12</td>\n",
       "    </tr>\n",
       "    <tr>\n",
       "      <th>48</th>\n",
       "      <td>os</td>\n",
       "      <td>12</td>\n",
       "    </tr>\n",
       "    <tr>\n",
       "      <th>49</th>\n",
       "      <td>ao</td>\n",
       "      <td>12</td>\n",
       "    </tr>\n",
       "  </tbody>\n",
       "</table>\n",
       "</div>"
      ],
      "text/plain": [
       "             word  count\n",
       "0              rt    211\n",
       "1              de    154\n",
       "2             que    106\n",
       "3          brasil    104\n",
       "4           https    103\n",
       "5              co    101\n",
       "6              do     79\n",
       "7              no     72\n",
       "8       bolsonaro     67\n",
       "9             não     65\n",
       "10           ford     61\n",
       "11             da     57\n",
       "12             se     38\n",
       "13            com     34\n",
       "14             em     31\n",
       "15           como     29\n",
       "16           para     28\n",
       "17            por     26\n",
       "18             um     24\n",
       "19            vai     23\n",
       "20         vacina     22\n",
       "21            tem     22\n",
       "22          assim     22\n",
       "23             na     20\n",
       "24     atividades     18\n",
       "25       gostaria     17\n",
       "26       encerrar     17\n",
       "27            ser     17\n",
       "28  rangermatheus     17\n",
       "29         minhas     17\n",
       "30         python     16\n",
       "31       eficácia     16\n",
       "32             as     16\n",
       "33           mais     16\n",
       "34            dia     16\n",
       "35        governo     15\n",
       "36            mas     15\n",
       "37     presidente     15\n",
       "38       pazuello     14\n",
       "39            pra     14\n",
       "40            uma     14\n",
       "41             38     14\n",
       "42             la     13\n",
       "43          gente     13\n",
       "44             eu     13\n",
       "45          sobre     13\n",
       "46      coronavac     12\n",
       "47             me     12\n",
       "48             os     12\n",
       "49             ao     12"
      ]
     },
     "execution_count": 52,
     "metadata": {},
     "output_type": "execute_result"
    }
   ],
   "source": [
    "# Contando o número de ocorrências das principais palavras em nosso dataset\n",
    "word_count = pd.DataFrame(cv.get_feature_names(), columns=[\"word\"])\n",
    "word_count[\"count\"] = count_matrix.sum(axis=0).tolist()[0]\n",
    "word_count = word_count.sort_values(\"count\", ascending=False).reset_index(drop=True)\n",
    "word_count[:50]"
   ]
  },
  {
   "cell_type": "markdown",
   "metadata": {},
   "source": [
    "# Fim"
   ]
  },
  {
   "cell_type": "markdown",
   "metadata": {},
   "source": [
    "### Obrigado - Data Science Academy - <a href=\"http://facebook.com/dsacademybr\">facebook.com/dsacademybr</a>"
   ]
  }
 ],
 "metadata": {
  "kernelspec": {
   "display_name": "Python 3",
   "language": "python",
   "name": "python3"
  },
  "language_info": {
   "codemirror_mode": {
    "name": "ipython",
    "version": 3
   },
   "file_extension": ".py",
   "mimetype": "text/x-python",
   "name": "python",
   "nbconvert_exporter": "python",
   "pygments_lexer": "ipython3",
   "version": "3.7.6"
  }
 },
 "nbformat": 4,
 "nbformat_minor": 1
}
