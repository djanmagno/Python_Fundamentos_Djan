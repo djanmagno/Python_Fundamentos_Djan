{
 "cells": [
  {
   "cell_type": "markdown",
   "metadata": {},
   "source": [
    "# <font color='blue'>Data Science Academy - Python Fundamentos - Capítulo 9</font>\n",
    "\n",
    "## Download: http://github.com/dsacademybr\n",
    "\n",
    "## Mini-Projeto 2 - Análise Exploratória em Conjunto de Dados do Kaggle\n",
    "\n",
    "## Análise 2"
   ]
  },
  {
   "cell_type": "code",
   "execution_count": 1,
   "metadata": {},
   "outputs": [],
   "source": [
    "# Imports\n",
    "import os\n",
    "import subprocess\n",
    "import stat\n",
    "import numpy as np\n",
    "import pandas as pd\n",
    "import seaborn as sns\n",
    "import matplotlib.pyplot as plt\n",
    "from datetime import datetime\n",
    "sns.set(style = \"white\")\n",
    "%matplotlib inline"
   ]
  },
  {
   "cell_type": "code",
   "execution_count": 2,
   "metadata": {},
   "outputs": [],
   "source": [
    "# Dataset\n",
    "clean_data_path = \"dataset/autos.csv\"\n",
    "df = pd.read_csv(clean_data_path,encoding = \"latin-1\")"
   ]
  },
  {
   "cell_type": "code",
   "execution_count": 3,
   "metadata": {},
   "outputs": [
    {
     "data": {
      "text/plain": [
       "Index(['dateCrawled', 'name', 'seller', 'offerType', 'price', 'abtest',\n",
       "       'vehicleType', 'yearOfRegistration', 'gearbox', 'powerPS', 'model',\n",
       "       'kilometer', 'monthOfRegistration', 'fuelType', 'brand',\n",
       "       'notRepairedDamage', 'dateCreated', 'postalCode', 'lastSeen',\n",
       "       'yearOfCreation', 'yearCrawled', 'monthOfCreation', 'monthCrawled',\n",
       "       'NoOfDaysOnline', 'NoOfHrsOnline', 'yearsOld', 'monthsOld'],\n",
       "      dtype='object')"
      ]
     },
     "execution_count": 3,
     "metadata": {},
     "output_type": "execute_result"
    }
   ],
   "source": [
    "df.columns"
   ]
  },
  {
   "cell_type": "markdown",
   "metadata": {},
   "source": [
    "## Número de veículos pertencentes a cada marca"
   ]
  },
  {
   "cell_type": "code",
   "execution_count": 4,
   "metadata": {
    "scrolled": true
   },
   "outputs": [
    {
     "data": {
      "text/html": [
       "<div>\n",
       "<style scoped>\n",
       "    .dataframe tbody tr th:only-of-type {\n",
       "        vertical-align: middle;\n",
       "    }\n",
       "\n",
       "    .dataframe tbody tr th {\n",
       "        vertical-align: top;\n",
       "    }\n",
       "\n",
       "    .dataframe thead th {\n",
       "        text-align: right;\n",
       "    }\n",
       "</style>\n",
       "<table border=\"1\" class=\"dataframe\">\n",
       "  <thead>\n",
       "    <tr style=\"text-align: right;\">\n",
       "      <th></th>\n",
       "      <th>brand</th>\n",
       "      <th>quantidade</th>\n",
       "    </tr>\n",
       "  </thead>\n",
       "  <tbody>\n",
       "    <tr>\n",
       "      <th>38</th>\n",
       "      <td>volkswagen</td>\n",
       "      <td>66980</td>\n",
       "    </tr>\n",
       "    <tr>\n",
       "      <th>24</th>\n",
       "      <td>opel</td>\n",
       "      <td>36158</td>\n",
       "    </tr>\n",
       "    <tr>\n",
       "      <th>2</th>\n",
       "      <td>bmw</td>\n",
       "      <td>32630</td>\n",
       "    </tr>\n",
       "    <tr>\n",
       "      <th>20</th>\n",
       "      <td>mercedes_benz</td>\n",
       "      <td>28692</td>\n",
       "    </tr>\n",
       "    <tr>\n",
       "      <th>1</th>\n",
       "      <td>audi</td>\n",
       "      <td>25214</td>\n",
       "    </tr>\n",
       "    <tr>\n",
       "      <th>10</th>\n",
       "      <td>ford</td>\n",
       "      <td>22728</td>\n",
       "    </tr>\n",
       "    <tr>\n",
       "      <th>27</th>\n",
       "      <td>renault</td>\n",
       "      <td>16387</td>\n",
       "    </tr>\n",
       "    <tr>\n",
       "      <th>25</th>\n",
       "      <td>peugeot</td>\n",
       "      <td>10257</td>\n",
       "    </tr>\n",
       "    <tr>\n",
       "      <th>9</th>\n",
       "      <td>fiat</td>\n",
       "      <td>8363</td>\n",
       "    </tr>\n",
       "    <tr>\n",
       "      <th>30</th>\n",
       "      <td>seat</td>\n",
       "      <td>5607</td>\n",
       "    </tr>\n",
       "    <tr>\n",
       "      <th>19</th>\n",
       "      <td>mazda</td>\n",
       "      <td>5210</td>\n",
       "    </tr>\n",
       "    <tr>\n",
       "      <th>5</th>\n",
       "      <td>citroen</td>\n",
       "      <td>4638</td>\n",
       "    </tr>\n",
       "    <tr>\n",
       "      <th>31</th>\n",
       "      <td>skoda</td>\n",
       "      <td>4626</td>\n",
       "    </tr>\n",
       "    <tr>\n",
       "      <th>32</th>\n",
       "      <td>smart</td>\n",
       "      <td>4566</td>\n",
       "    </tr>\n",
       "    <tr>\n",
       "      <th>23</th>\n",
       "      <td>nissan</td>\n",
       "      <td>4446</td>\n",
       "    </tr>\n",
       "    <tr>\n",
       "      <th>36</th>\n",
       "      <td>toyota</td>\n",
       "      <td>4020</td>\n",
       "    </tr>\n",
       "    <tr>\n",
       "      <th>12</th>\n",
       "      <td>hyundai</td>\n",
       "      <td>3170</td>\n",
       "    </tr>\n",
       "    <tr>\n",
       "      <th>39</th>\n",
       "      <td>volvo</td>\n",
       "      <td>3050</td>\n",
       "    </tr>\n",
       "    <tr>\n",
       "      <th>33</th>\n",
       "      <td>sonstige_autos</td>\n",
       "      <td>3012</td>\n",
       "    </tr>\n",
       "    <tr>\n",
       "      <th>22</th>\n",
       "      <td>mitsubishi</td>\n",
       "      <td>2831</td>\n",
       "    </tr>\n",
       "    <tr>\n",
       "      <th>11</th>\n",
       "      <td>honda</td>\n",
       "      <td>2528</td>\n",
       "    </tr>\n",
       "    <tr>\n",
       "      <th>15</th>\n",
       "      <td>kia</td>\n",
       "      <td>2188</td>\n",
       "    </tr>\n",
       "    <tr>\n",
       "      <th>0</th>\n",
       "      <td>alfa_romeo</td>\n",
       "      <td>2069</td>\n",
       "    </tr>\n",
       "    <tr>\n",
       "      <th>35</th>\n",
       "      <td>suzuki</td>\n",
       "      <td>2051</td>\n",
       "    </tr>\n",
       "    <tr>\n",
       "      <th>21</th>\n",
       "      <td>mini</td>\n",
       "      <td>1797</td>\n",
       "    </tr>\n",
       "    <tr>\n",
       "      <th>3</th>\n",
       "      <td>chevrolet</td>\n",
       "      <td>1578</td>\n",
       "    </tr>\n",
       "    <tr>\n",
       "      <th>4</th>\n",
       "      <td>chrysler</td>\n",
       "      <td>1339</td>\n",
       "    </tr>\n",
       "    <tr>\n",
       "      <th>26</th>\n",
       "      <td>porsche</td>\n",
       "      <td>839</td>\n",
       "    </tr>\n",
       "    <tr>\n",
       "      <th>6</th>\n",
       "      <td>dacia</td>\n",
       "      <td>790</td>\n",
       "    </tr>\n",
       "    <tr>\n",
       "      <th>8</th>\n",
       "      <td>daihatsu</td>\n",
       "      <td>774</td>\n",
       "    </tr>\n",
       "    <tr>\n",
       "      <th>14</th>\n",
       "      <td>jeep</td>\n",
       "      <td>713</td>\n",
       "    </tr>\n",
       "    <tr>\n",
       "      <th>34</th>\n",
       "      <td>subaru</td>\n",
       "      <td>689</td>\n",
       "    </tr>\n",
       "    <tr>\n",
       "      <th>18</th>\n",
       "      <td>land_rover</td>\n",
       "      <td>602</td>\n",
       "    </tr>\n",
       "    <tr>\n",
       "      <th>37</th>\n",
       "      <td>trabant</td>\n",
       "      <td>573</td>\n",
       "    </tr>\n",
       "    <tr>\n",
       "      <th>7</th>\n",
       "      <td>daewoo</td>\n",
       "      <td>513</td>\n",
       "    </tr>\n",
       "    <tr>\n",
       "      <th>29</th>\n",
       "      <td>saab</td>\n",
       "      <td>507</td>\n",
       "    </tr>\n",
       "    <tr>\n",
       "      <th>28</th>\n",
       "      <td>rover</td>\n",
       "      <td>458</td>\n",
       "    </tr>\n",
       "    <tr>\n",
       "      <th>13</th>\n",
       "      <td>jaguar</td>\n",
       "      <td>443</td>\n",
       "    </tr>\n",
       "    <tr>\n",
       "      <th>17</th>\n",
       "      <td>lancia</td>\n",
       "      <td>435</td>\n",
       "    </tr>\n",
       "    <tr>\n",
       "      <th>16</th>\n",
       "      <td>lada</td>\n",
       "      <td>216</td>\n",
       "    </tr>\n",
       "  </tbody>\n",
       "</table>\n",
       "</div>"
      ],
      "text/plain": [
       "             brand  quantidade\n",
       "38      volkswagen       66980\n",
       "24            opel       36158\n",
       "2              bmw       32630\n",
       "20   mercedes_benz       28692\n",
       "1             audi       25214\n",
       "10            ford       22728\n",
       "27         renault       16387\n",
       "25         peugeot       10257\n",
       "9             fiat        8363\n",
       "30            seat        5607\n",
       "19           mazda        5210\n",
       "5          citroen        4638\n",
       "31           skoda        4626\n",
       "32           smart        4566\n",
       "23          nissan        4446\n",
       "36          toyota        4020\n",
       "12         hyundai        3170\n",
       "39           volvo        3050\n",
       "33  sonstige_autos        3012\n",
       "22      mitsubishi        2831\n",
       "11           honda        2528\n",
       "15             kia        2188\n",
       "0       alfa_romeo        2069\n",
       "35          suzuki        2051\n",
       "21            mini        1797\n",
       "3        chevrolet        1578\n",
       "4         chrysler        1339\n",
       "26         porsche         839\n",
       "6            dacia         790\n",
       "8         daihatsu         774\n",
       "14            jeep         713\n",
       "34          subaru         689\n",
       "18      land_rover         602\n",
       "37         trabant         573\n",
       "7           daewoo         513\n",
       "29            saab         507\n",
       "28           rover         458\n",
       "13          jaguar         443\n",
       "17          lancia         435\n",
       "16            lada         216"
      ]
     },
     "execution_count": 4,
     "metadata": {},
     "output_type": "execute_result"
    }
   ],
   "source": [
    "qnt_marca = df.groupby('brand')['brand'].count().reset_index(name='quantidade')\n",
    "qnt_marca = qnt_marca.sort_values(by='quantidade',ascending=False)\n",
    "qnt_marca"
   ]
  },
  {
   "cell_type": "code",
   "execution_count": 5,
   "metadata": {},
   "outputs": [
    {
     "data": {
      "image/png": "[encoded data removed]",
      "text/plain": [
       "<Figure size 1296x648 with 1 Axes>"
      ]
     },
     "metadata": {
      "needs_background": "light"
     },
     "output_type": "display_data"
    }
   ],
   "source": [
    "# Crie um Plot que mostre o número de veículos pertencentes a cada marca\n",
    "\n",
    "fig,ax = plt.subplots(figsize=(18, 9))\n",
    "plt.barh(qnt_marca.brand, qnt_marca.quantidade, color='lightgreen', edgecolor = \"black\")\n",
    "ax = plt.gca()\n",
    "ax.invert_yaxis()\n",
    "\n",
    "ax.xaxis.grid() # vertical lines\n",
    "ax.yaxis.grid(False)\n",
    "\n",
    "ax.spines['bottom'].set_color('#dddddd')\n",
    "ax.spines['top'].set_visible(False) \n",
    "ax.spines['right'].set_visible(False)\n",
    "ax.spines['left'].set_color('#dddddd')\n",
    "\n",
    "plt.title(\"Quantidade de Carros por Marca\",fontsize=21 ,y=1.02)\n",
    "\n",
    "plt.xlabel(\"Quantidade\", fontsize = 18)\n",
    "plt.xticks(fontsize = 12)\n",
    "\n",
    "plt.ylabel(\"Marca\", fontsize = 18)\n",
    "plt.yticks(fontsize = 12)\n",
    "\n",
    "\n",
    "plt.show()"
   ]
  },
  {
   "cell_type": "code",
   "execution_count": 6,
   "metadata": {},
   "outputs": [],
   "source": [
    "# Salvando o plot\n",
    "fig.savefig((\"plots/Analise2/brand-vehicleCount.png\"))"
   ]
  },
  {
   "cell_type": "markdown",
   "metadata": {},
   "source": [
    "## Preço médio dos veículos com base no tipo de veículo, bem como no tipo de caixa de câmbio"
   ]
  },
  {
   "cell_type": "code",
   "execution_count": 9,
   "metadata": {
    "scrolled": false
   },
   "outputs": [
    {
     "data": {
      "text/plain": [
       "<matplotlib.legend.Legend at 0x7fea4cd33fd0>"
      ]
     },
     "execution_count": 9,
     "metadata": {},
     "output_type": "execute_result"
    },
    {
     "data": {
      "image/png": "[encoded data removed]",
      "text/plain": [
       "<Figure size 1296x648 with 1 Axes>"
      ]
     },
     "metadata": {
      "needs_background": "light"
     },
     "output_type": "display_data"
    }
   ],
   "source": [
    "# Crie um Plot com o Preço médio dos veículos com base no tipo de veículo, bem como no tipo de caixa de câmbio\n",
    "\n",
    "pricmed_type = df[['vehicleType','gearbox','price']]\n",
    "\n",
    "k = pricmed_type.groupby(['vehicleType','gearbox'])['price'].mean().reset_index(name='media')\n",
    "\n",
    "filtro_a = k['gearbox'] == 'Unspecified'\n",
    "filtro_b = k['gearbox'] == 'automatik'\n",
    "filtro_c = k['gearbox'] == 'manuell'\n",
    "\n",
    "a = k.loc[filtro_a, ['media']]\n",
    "a = list(a['media'])\n",
    "\n",
    "b = k.loc[filtro_b, ['media']]\n",
    "b = list(b['media'])\n",
    "\n",
    "c = k.loc[filtro_c, ['media']]\n",
    "c = list(c['media'])\n",
    "\n",
    "labels = k.loc[filtro_a, ['vehicleType']]\n",
    "labels = list(labels['vehicleType'])\n",
    "\n",
    "\n",
    "x = np.arange(len(labels))  # the label locations\n",
    "w = 0.30  # the width of the bars\n",
    "\n",
    "fig, ax = plt.subplots(figsize=(18, 9))\n",
    "rects1 = ax.bar(x - w, a, color = 'silver', width = w, label='Unspecified', align='center')\n",
    "rects2 = ax.bar(x, b, color = 'tomato', width = w, label='automatik', align='center')\n",
    "rects3 = ax.bar(x + w, c, color = 'skyblue', width = w, label='manuell', align='center')\n",
    "ax.xaxis.grid(False) # vertical lines\n",
    "ax.yaxis.grid()\n",
    "\n",
    "# Add some text for labels, title and custom x-axis tick labels, etc.\n",
    "ax.set_title('Preço Médio dos Veículos por tipo de câmbio e Veículo', fontsize = 21)\n",
    "\n",
    "ax.set_xlabel('\\nTipo de Veículo', fontsize = 18)\n",
    "ax.set_xticks(x)\n",
    "ax.set_xticklabels(labels, fontsize = 14)\n",
    "\n",
    "ax.set_ylabel('Preço Médio', fontsize = 18)\n",
    "plt.yticks(fontsize = 14)\n",
    "\n",
    "ax.legend(fontsize = 14)"
   ]
  },
  {
   "cell_type": "code",
   "execution_count": 10,
   "metadata": {},
   "outputs": [],
   "source": [
    "# Salvando o plot\n",
    "fig.savefig(\"plots/Analise2/vehicletype-gearbox-price.png\")"
   ]
  },
  {
   "cell_type": "markdown",
   "metadata": {},
   "source": [
    "Conheça a Formação Cientista de Dados, um programa completo, 100% online e 100% em português, com 340 horas, mais de 1.200 aulas em vídeos e 26 projetos, que vão ajudá-lo a se tornar um dos profissionais mais cobiçados do mercado de análise de dados. Clique no link abaixo, faça sua inscrição, comece hoje mesmo e aumente sua empregabilidade:\n",
    "\n",
    "https://www.datascienceacademy.com.br/pages/formacao-cientista-de-dados"
   ]
  },
  {
   "cell_type": "markdown",
   "metadata": {
    "collapsed": true
   },
   "source": [
    "# Fim"
   ]
  },
  {
   "cell_type": "markdown",
   "metadata": {},
   "source": [
    "### Obrigado - Data Science Academy - <a href=\"http://facebook.com/dsacademybr\">facebook.com/dsacademybr</a>"
   ]
  }
 ],
 "metadata": {
  "anaconda-cloud": {},
  "kernelspec": {
   "display_name": "Python 3",
   "language": "python",
   "name": "python3"
  },
  "language_info": {
   "codemirror_mode": {
    "name": "ipython",
    "version": 3
   },
   "file_extension": ".py",
   "mimetype": "text/x-python",
   "name": "python",
   "nbconvert_exporter": "python",
   "pygments_lexer": "ipython3",
   "version": "3.7.6"
  }
 },
 "nbformat": 4,
 "nbformat_minor": 1
}
