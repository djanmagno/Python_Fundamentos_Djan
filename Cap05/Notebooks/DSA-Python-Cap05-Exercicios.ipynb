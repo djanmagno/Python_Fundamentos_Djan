{
 "cells": [
  {
   "cell_type": "markdown",
   "metadata": {},
   "source": [
    "# <font color='blue'>Data Science Academy - Python Fundamentos - Capítulo 5</font>\n",
    "\n",
    "## Download: http://github.com/dsacademybr"
   ]
  },
  {
   "cell_type": "code",
   "execution_count": 1,
   "metadata": {},
   "outputs": [
    {
     "name": "stdout",
     "output_type": "stream",
     "text": [
      "Versão da Linguagem Python Usada Neste Jupyter Notebook: 3.7.6\n"
     ]
    }
   ],
   "source": [
    "# Versão da Linguagem Python\n",
    "from platform import python_version\n",
    "print('Versão da Linguagem Python Usada Neste Jupyter Notebook:', python_version())"
   ]
  },
  {
   "cell_type": "markdown",
   "metadata": {},
   "source": [
    "## Exercícios"
   ]
  },
  {
   "cell_type": "code",
   "execution_count": 21,
   "metadata": {},
   "outputs": [
    {
     "name": "stdout",
     "output_type": "stream",
     "text": [
      "Direções do Rocket setadas no eixo cartesiano\n",
      "Rocket movido para uma nova direção no eixo cartesiano\n",
      "Informações impressas sobre a direção do Rocket no eixo cartesiano\n",
      "78 1000\n"
     ]
    }
   ],
   "source": [
    "# Exercício 1 - Crie um objeto a partir da classe abaixo, chamado roc1, passando 2 parâmetros e depois faça uma chamada\n",
    "# aos atributos e métodos\n",
    "from math import sqrt\n",
    "\n",
    "class Rocket():\n",
    "     \n",
    "    def __init__(self, x=0, y=0):\n",
    "        print (\"Direções do Rocket setadas no eixo cartesiano\")\n",
    "        self.x = x\n",
    "        self.y = y\n",
    "        \n",
    "    def move_rocket(self, x_increment=0, y_increment=1):\n",
    "        print(\"Rocket movido para uma nova direção no eixo cartesiano\")\n",
    "        self.x += x_increment\n",
    "        self.y += y_increment\n",
    "        \n",
    "    def print_rocket(self):\n",
    "        print(\"Informações impressas sobre a direção do Rocket no eixo cartesiano\")\n",
    "        print(self.x, self.y)\n",
    "\n",
    "\n",
    "roc1 = Rocket(78,999)\n",
    "\n",
    "roc1.move_rocket()\n",
    "roc1.print_rocket()\n"
   ]
  },
  {
   "cell_type": "code",
   "execution_count": 28,
   "metadata": {},
   "outputs": [
    {
     "name": "stdout",
     "output_type": "stream",
     "text": [
      "Pessoa criada com sucesso!\n",
      "Seu nome é Djan Magno, voce mora na cidade Rio de Janeiro, seu telefone é 21996878642 e seu email é djan.python@gmail.com\n"
     ]
    }
   ],
   "source": [
    "# Exercício 2 - Crie uma classe chamada Pessoa() com os atributos: nome, cidade, telefone e e-mail. Use pelo menos 2\n",
    "# métodos especiais na sua classe. Crie um objeto da sua classe e faça uma chamada a pelo menos um dos seus métodos\n",
    "# especiais.\n",
    "\n",
    "class Pessoa():\n",
    "    \n",
    "    ##Constructor\n",
    "    \n",
    "    def __init__(self, nome, cidade, telefone, email):\n",
    "        \n",
    "        self.nome = nome\n",
    "        self.cidade = cidade\n",
    "        self.telefone = telefone\n",
    "        self.email = email\n",
    "        print (\"Pessoa criada com sucesso!\")\n",
    "    \n",
    "    ##\n",
    "    \n",
    "    def __str__(self):\n",
    "        return \"Seu nome é %s, voce mora na cidade %s, seu telefone é %s e seu email é %s\" \\\n",
    "            %(self.nome, self.cidade, self.telefone, self.email) \n",
    "\n",
    "cliente_01 = Pessoa(\"Djan Magno\",\"Rio de Janeiro\",\"21996878642\",\"djan.python@gmail.com\")\n",
    "\n",
    "print(cliente_01)"
   ]
  },
  {
   "cell_type": "code",
   "execution_count": 38,
   "metadata": {},
   "outputs": [
    {
     "name": "stdout",
     "output_type": "stream",
     "text": [
      "Smartphone criado com sucesso!\n",
      "MP3Player criado com sucesso!\n"
     ]
    },
    {
     "data": {
      "text/plain": [
       "'O telefone tem 128GB de capacidade, seu tamanho é Médio, sua interface é de LCD'"
      ]
     },
     "execution_count": 38,
     "metadata": {},
     "output_type": "execute_result"
    }
   ],
   "source": [
    "# Exercício 3 - Crie a classe Smartphone com 2 atributos, tamanho e interface e crie a classe MP3Player com os \n",
    "# atributos capacidade. A classe MP3player deve herdar os atributos da classe Smartphone.\n",
    "\n",
    "class Smartphone():\n",
    "    def __init__(self, tamanho, interface):\n",
    "        \n",
    "        self.tamanho = tamanho\n",
    "        self.interface = interface\n",
    "        print (\"Smartphone criado com sucesso!\")\n",
    "            \n",
    "            \n",
    "class MP3Player(Smartphone):\n",
    "    def __init__(self, capacidade, tamanho = \"Pequeno\" , interface = \"Led\"):\n",
    "        \n",
    "        Smartphone.__init__(self, tamanho, interface)\n",
    "        self.capacidade = capacidade\n",
    "        print (\"MP3Player criado com sucesso!\")\n",
    "    def __str__(self):\n",
    "        return \"O telefone tem %s de capacidade, seu tamanho é %s, sua interface é de %s\" \\\n",
    "            %(self.capacidade, self.tamanho, self.interface) \n",
    "\n",
    "nokia = MP3Player(\"128GB\",\"Médio\",\"LCD\")\n",
    "\n",
    "str(nokia)"
   ]
  },
  {
   "cell_type": "markdown",
   "metadata": {},
   "source": [
    "### FIM"
   ]
  },
  {
   "cell_type": "markdown",
   "metadata": {},
   "source": [
    "### Obrigado - Data Science Academy - <a href=\"http://facebook.com/dsacademybr\">facebook.com/dsacademybr</a>"
   ]
  }
 ],
 "metadata": {
  "kernelspec": {
   "display_name": "Python 3",
   "language": "python",
   "name": "python3"
  },
  "language_info": {
   "codemirror_mode": {
    "name": "ipython",
    "version": 3
   },
   "file_extension": ".py",
   "mimetype": "text/x-python",
   "name": "python",
   "nbconvert_exporter": "python",
   "pygments_lexer": "ipython3",
   "version": "3.7.6"
  }
 },
 "nbformat": 4,
 "nbformat_minor": 1
}
